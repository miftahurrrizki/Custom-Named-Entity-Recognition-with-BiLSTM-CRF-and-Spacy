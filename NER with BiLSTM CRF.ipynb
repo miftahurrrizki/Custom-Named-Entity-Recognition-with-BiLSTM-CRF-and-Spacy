{
 "cells": [
  {
   "cell_type": "code",
   "execution_count": 1,
   "metadata": {
    "_cell_guid": "4d5be342-abe9-4c95-98fd-c904762ecca9",
    "_uuid": "47570c242f4774c5d670093b822cf6a3f3a91ba9",
    "execution": {
     "iopub.execute_input": "2024-08-19T19:52:07.816776Z",
     "iopub.status.busy": "2024-08-19T19:52:07.816450Z",
     "iopub.status.idle": "2024-08-19T19:52:20.452601Z",
     "shell.execute_reply": "2024-08-19T19:52:20.451384Z",
     "shell.execute_reply.started": "2024-08-19T19:52:07.816721Z"
    }
   },
   "outputs": [
    {
     "name": "stderr",
     "output_type": "stream",
     "text": [
      "Using TensorFlow backend.\n"
     ]
    },
    {
     "name": "stdout",
     "output_type": "stream",
     "text": [
      "2.2.4\n",
      "Collecting git+https://www.github.com/keras-team/keras-contrib.git\n",
      "  Cloning https://www.github.com/keras-team/keras-contrib.git to c:\\users\\mfthr\\appdata\\local\\temp\\pip-req-build-yeck46us\n",
      "  Resolved https://www.github.com/keras-team/keras-contrib.git to commit 3fc5ef709e061416f4bc8a92ca3750c824b5d2b0\n",
      "  Preparing metadata (setup.py): started\n",
      "  Preparing metadata (setup.py): finished with status 'done'\n",
      "Requirement already satisfied: keras in c:\\users\\mfthr\\anaconda3\\envs\\bilstmcrf\\lib\\site-packages (from keras-contrib==2.0.8) (2.2.4)\n",
      "Requirement already satisfied: six>=1.9.0 in c:\\users\\mfthr\\anaconda3\\envs\\bilstmcrf\\lib\\site-packages (from keras->keras-contrib==2.0.8) (1.16.0)\n",
      "Requirement already satisfied: pyyaml in c:\\users\\mfthr\\anaconda3\\envs\\bilstmcrf\\lib\\site-packages (from keras->keras-contrib==2.0.8) (6.0.1)\n",
      "Requirement already satisfied: keras-preprocessing>=1.0.5 in c:\\users\\mfthr\\anaconda3\\envs\\bilstmcrf\\lib\\site-packages (from keras->keras-contrib==2.0.8) (1.1.2)\n",
      "Requirement already satisfied: h5py in c:\\users\\mfthr\\anaconda3\\envs\\bilstmcrf\\lib\\site-packages (from keras->keras-contrib==2.0.8) (3.7.0)\n",
      "Requirement already satisfied: scipy>=0.14 in c:\\users\\mfthr\\anaconda3\\envs\\bilstmcrf\\lib\\site-packages (from keras->keras-contrib==2.0.8) (1.7.3)\n",
      "Requirement already satisfied: keras-applications>=1.0.6 in c:\\users\\mfthr\\anaconda3\\envs\\bilstmcrf\\lib\\site-packages (from keras->keras-contrib==2.0.8) (1.0.8)\n",
      "Requirement already satisfied: numpy>=1.9.1 in c:\\users\\mfthr\\anaconda3\\envs\\bilstmcrf\\lib\\site-packages (from keras->keras-contrib==2.0.8) (1.21.5)\n"
     ]
    },
    {
     "name": "stderr",
     "output_type": "stream",
     "text": [
      "  Running command git clone --filter=blob:none --quiet https://www.github.com/keras-team/keras-contrib.git 'C:\\Users\\mfthr\\AppData\\Local\\Temp\\pip-req-build-yeck46us'\n",
      "  warning: redirecting to https://github.com/keras-team/keras-contrib.git/\n"
     ]
    }
   ],
   "source": [
    "# This Python 3 environment comes with many helpful analytics libraries installed\n",
    "# It is defined by the kaggle/python docker image: https://github.com/kaggle/docker-python\n",
    "# For example, here's several helpful packages to load in \n",
    "\n",
    "import numpy as np # linear algebra\n",
    "import pandas as pd # data processing, CSV file I/O (e.g. pd.read_csv)\n",
    "import keras\n",
    "print(keras.__version__)\n",
    "\n",
    "# Input data files are available in the \"../input/\" directory.\n",
    "# For example, running this (by clicking run or pressing Shift+Enter) will list the files in the input directory\n",
    "from math import nan\n",
    "from keras.callbacks import ModelCheckpoint, EarlyStopping\n",
    "\n",
    "!pip install git+https://www.github.com/keras-team/keras-contrib.git\n",
    "from keras_contrib.layers import CRF\n",
    "\n",
    "# from subprocess import check_output\n",
    "# print(check_output([\"ls\", \"../input\"]).decode(\"utf8\"))\n",
    "\n",
    "# # Any results you write to the current directory are saved as output."
   ]
  },
  {
   "cell_type": "markdown",
   "metadata": {},
   "source": [
    "# Data Prep"
   ]
  },
  {
   "cell_type": "markdown",
   "metadata": {
    "_cell_guid": "46eeeccc-37ad-4d58-b0c5-71dcbb4b935b",
    "_uuid": "64d208ee42a7c5919fc1f7f0937b7b6fcb9c3ea7"
   },
   "source": [
    "\n",
    "## Importing the dataset for named entity recognition model"
   ]
  },
  {
   "cell_type": "code",
   "execution_count": 2,
   "metadata": {
    "_cell_guid": "fab9a876-dd53-4636-a48e-3a87a5ba9370",
    "_uuid": "39f851aae0e531c23978926c6ad9bc3d2c739705",
    "execution": {
     "iopub.execute_input": "2024-08-19T19:52:20.455819Z",
     "iopub.status.busy": "2024-08-19T19:52:20.455392Z",
     "iopub.status.idle": "2024-08-19T19:52:20.513725Z",
     "shell.execute_reply": "2024-08-19T19:52:20.512851Z",
     "shell.execute_reply.started": "2024-08-19T19:52:20.455753Z"
    }
   },
   "outputs": [],
   "source": [
    "dframe = pd.read_csv(\"data_cleaned_v1.csv\")"
   ]
  },
  {
   "cell_type": "markdown",
   "metadata": {},
   "source": [
    "## Penjelasan Tag yang dipakai\n",
    "\n",
    "- B-SEAWEED: Digunakan untuk menandai kata pertama dari entitas yang berkaitan dengan \"seaweed\" atau rumput laut. Misalnya, dalam \"Gracilaria verrucosa\", kata \"Gracilaria\" akan diberi label B-SEAWEED.\n",
    "\n",
    "- B-LOC: Digunakan untuk menandai kata pertama dari entitas yang berkaitan dengan lokasi. Misalnya, dalam \"Pulau Bali\", kata \"Pulau\" akan diberi label B-LOC.\n",
    "\n",
    "Jika entitas terdiri dari lebih dari satu kata, kata-kata berikutnya akan diberi label I-SEAWEED dan I-LOC untuk menunjukkan bahwa mereka adalah bagian dari entitas yang sama. Misalnya, \"Gracilaria verrucosa dari Pulau Bali\" akan diberi label seperti ini:\n",
    "\n",
    "- Gracilaria: B-SEAWEED\n",
    "- verrucosa: I-SEAWEED\n",
    "- dari: O (bukan entitas)\n",
    "- Pulau: B-LOC\n",
    "- Bali: I-LOC"
   ]
  },
  {
   "cell_type": "code",
   "execution_count": 3,
   "metadata": {
    "_cell_guid": "0049ec5e-3b99-4059-a09c-7395f1fa3ab7",
    "_uuid": "ce5d3d143151edbe4885ea10ca1994fb2687038a",
    "execution": {
     "iopub.execute_input": "2024-08-19T19:52:20.546397Z",
     "iopub.status.busy": "2024-08-19T19:52:20.545850Z",
     "iopub.status.idle": "2024-08-19T19:52:20.572260Z",
     "shell.execute_reply": "2024-08-19T19:52:20.570898Z",
     "shell.execute_reply.started": "2024-08-19T19:52:20.546313Z"
    }
   },
   "outputs": [
    {
     "data": {
      "text/html": [
       "<div>\n",
       "<style scoped>\n",
       "    .dataframe tbody tr th:only-of-type {\n",
       "        vertical-align: middle;\n",
       "    }\n",
       "\n",
       "    .dataframe tbody tr th {\n",
       "        vertical-align: top;\n",
       "    }\n",
       "\n",
       "    .dataframe thead th {\n",
       "        text-align: right;\n",
       "    }\n",
       "</style>\n",
       "<table border=\"1\" class=\"dataframe\">\n",
       "  <thead>\n",
       "    <tr style=\"text-align: right;\">\n",
       "      <th></th>\n",
       "      <th>word</th>\n",
       "      <th>label</th>\n",
       "      <th>sentence_idx</th>\n",
       "    </tr>\n",
       "  </thead>\n",
       "  <tbody>\n",
       "    <tr>\n",
       "      <th>0</th>\n",
       "      <td>Abstrak</td>\n",
       "      <td>O</td>\n",
       "      <td>0</td>\n",
       "    </tr>\n",
       "    <tr>\n",
       "      <th>1</th>\n",
       "      <td>Kegiatan</td>\n",
       "      <td>O</td>\n",
       "      <td>0</td>\n",
       "    </tr>\n",
       "    <tr>\n",
       "      <th>2</th>\n",
       "      <td>pengabdian</td>\n",
       "      <td>O</td>\n",
       "      <td>0</td>\n",
       "    </tr>\n",
       "    <tr>\n",
       "      <th>3</th>\n",
       "      <td>kepada</td>\n",
       "      <td>O</td>\n",
       "      <td>0</td>\n",
       "    </tr>\n",
       "    <tr>\n",
       "      <th>4</th>\n",
       "      <td>masyarakat</td>\n",
       "      <td>O</td>\n",
       "      <td>0</td>\n",
       "    </tr>\n",
       "  </tbody>\n",
       "</table>\n",
       "</div>"
      ],
      "text/plain": [
       "         word label  sentence_idx\n",
       "0     Abstrak     O             0\n",
       "1    Kegiatan     O             0\n",
       "2  pengabdian     O             0\n",
       "3      kepada     O             0\n",
       "4  masyarakat     O             0"
      ]
     },
     "execution_count": 3,
     "metadata": {},
     "output_type": "execute_result"
    }
   ],
   "source": [
    "dframe.head()"
   ]
  },
  {
   "cell_type": "markdown",
   "metadata": {
    "_cell_guid": "06f00bc1-4964-46e9-a1ff-aa04d2605cef",
    "_uuid": "d64e89af977c30f36cb50f590645ead8576d17ab"
   },
   "source": [
    "## Data preprocessing"
   ]
  },
  {
   "cell_type": "code",
   "execution_count": 4,
   "metadata": {
    "_cell_guid": "85bfa964-b5c4-44d9-9cdc-9eb15259d7c9",
    "_uuid": "028f9857d08bd173ac2a4b587ebd6975aa3c3e80",
    "execution": {
     "iopub.execute_input": "2024-08-19T19:52:20.573976Z",
     "iopub.status.busy": "2024-08-19T19:52:20.573692Z",
     "iopub.status.idle": "2024-08-19T19:52:20.580372Z",
     "shell.execute_reply": "2024-08-19T19:52:20.579203Z",
     "shell.execute_reply.started": "2024-08-19T19:52:20.573932Z"
    }
   },
   "outputs": [
    {
     "data": {
      "text/plain": [
       "Index(['word', 'label', 'sentence_idx'], dtype='object')"
      ]
     },
     "execution_count": 4,
     "metadata": {},
     "output_type": "execute_result"
    }
   ],
   "source": [
    "dframe.columns"
   ]
  },
  {
   "cell_type": "markdown",
   "metadata": {
    "_cell_guid": "e3448ee3-bed0-4029-88a1-3a79abfd23d5",
    "_uuid": "2d4d560f8101eb4da1a90c05cfa30b32b134be10"
   },
   "source": [
    "## Menjadikan word, label, dan sentence_idx sebagai input"
   ]
  },
  {
   "cell_type": "code",
   "execution_count": 5,
   "metadata": {
    "_cell_guid": "9f70ec09-0452-495d-aa80-a6358c2d30af",
    "_uuid": "45e7b565a3eacf62a3104969026eed96c7440b34",
    "execution": {
     "iopub.execute_input": "2024-08-19T19:52:20.582777Z",
     "iopub.status.busy": "2024-08-19T19:52:20.582283Z",
     "iopub.status.idle": "2024-08-19T19:52:20.590170Z",
     "shell.execute_reply": "2024-08-19T19:52:20.589082Z",
     "shell.execute_reply.started": "2024-08-19T19:52:20.582592Z"
    }
   },
   "outputs": [],
   "source": [
    "dataset = dframe\n",
    "\n",
    "# # Update dataset dengan data yang diundursampling\n",
    "# dataset = data_balanced"
   ]
  },
  {
   "cell_type": "code",
   "execution_count": 6,
   "metadata": {
    "_cell_guid": "fbf18f0c-635d-495a-81a2-46cffd0a1141",
    "_uuid": "fc7378e8db3c58bb9f953abf4991b0166a582373",
    "execution": {
     "iopub.execute_input": "2024-08-19T19:52:20.592106Z",
     "iopub.status.busy": "2024-08-19T19:52:20.591674Z",
     "iopub.status.idle": "2024-08-19T19:52:20.611979Z",
     "shell.execute_reply": "2024-08-19T19:52:20.610818Z",
     "shell.execute_reply.started": "2024-08-19T19:52:20.592049Z"
    }
   },
   "outputs": [
    {
     "name": "stdout",
     "output_type": "stream",
     "text": [
      "<class 'pandas.core.frame.DataFrame'>\n",
      "RangeIndex: 143437 entries, 0 to 143436\n",
      "Data columns (total 3 columns):\n",
      " #   Column        Non-Null Count   Dtype \n",
      "---  ------        --------------   ----- \n",
      " 0   word          143437 non-null  object\n",
      " 1   label         143437 non-null  object\n",
      " 2   sentence_idx  143437 non-null  int64 \n",
      "dtypes: int64(1), object(2)\n",
      "memory usage: 3.3+ MB\n"
     ]
    }
   ],
   "source": [
    "dataset.info()"
   ]
  },
  {
   "cell_type": "code",
   "execution_count": 7,
   "metadata": {
    "_cell_guid": "8d992370-b7b0-46d1-939c-74c567c23162",
    "_uuid": "ab6642a1268a00928aa8651037ed84db5414b5f0",
    "execution": {
     "iopub.execute_input": "2024-08-19T19:52:20.614211Z",
     "iopub.status.busy": "2024-08-19T19:52:20.613776Z",
     "iopub.status.idle": "2024-08-19T19:52:20.626764Z",
     "shell.execute_reply": "2024-08-19T19:52:20.625641Z",
     "shell.execute_reply.started": "2024-08-19T19:52:20.614120Z"
    }
   },
   "outputs": [
    {
     "data": {
      "text/html": [
       "<div>\n",
       "<style scoped>\n",
       "    .dataframe tbody tr th:only-of-type {\n",
       "        vertical-align: middle;\n",
       "    }\n",
       "\n",
       "    .dataframe tbody tr th {\n",
       "        vertical-align: top;\n",
       "    }\n",
       "\n",
       "    .dataframe thead th {\n",
       "        text-align: right;\n",
       "    }\n",
       "</style>\n",
       "<table border=\"1\" class=\"dataframe\">\n",
       "  <thead>\n",
       "    <tr style=\"text-align: right;\">\n",
       "      <th></th>\n",
       "      <th>word</th>\n",
       "      <th>label</th>\n",
       "      <th>sentence_idx</th>\n",
       "    </tr>\n",
       "  </thead>\n",
       "  <tbody>\n",
       "    <tr>\n",
       "      <th>0</th>\n",
       "      <td>Abstrak</td>\n",
       "      <td>O</td>\n",
       "      <td>0</td>\n",
       "    </tr>\n",
       "    <tr>\n",
       "      <th>1</th>\n",
       "      <td>Kegiatan</td>\n",
       "      <td>O</td>\n",
       "      <td>0</td>\n",
       "    </tr>\n",
       "    <tr>\n",
       "      <th>2</th>\n",
       "      <td>pengabdian</td>\n",
       "      <td>O</td>\n",
       "      <td>0</td>\n",
       "    </tr>\n",
       "    <tr>\n",
       "      <th>3</th>\n",
       "      <td>kepada</td>\n",
       "      <td>O</td>\n",
       "      <td>0</td>\n",
       "    </tr>\n",
       "    <tr>\n",
       "      <th>4</th>\n",
       "      <td>masyarakat</td>\n",
       "      <td>O</td>\n",
       "      <td>0</td>\n",
       "    </tr>\n",
       "  </tbody>\n",
       "</table>\n",
       "</div>"
      ],
      "text/plain": [
       "         word label  sentence_idx\n",
       "0     Abstrak     O             0\n",
       "1    Kegiatan     O             0\n",
       "2  pengabdian     O             0\n",
       "3      kepada     O             0\n",
       "4  masyarakat     O             0"
      ]
     },
     "execution_count": 7,
     "metadata": {},
     "output_type": "execute_result"
    }
   ],
   "source": [
    "dataset.head()"
   ]
  },
  {
   "cell_type": "code",
   "execution_count": 8,
   "metadata": {
    "_cell_guid": "768177ab-ed36-46d2-ba06-49b708dbe185",
    "_uuid": "744cc63a695f486351f214f272307656c77db95d",
    "execution": {
     "iopub.execute_input": "2024-08-19T19:52:20.628704Z",
     "iopub.status.busy": "2024-08-19T19:52:20.628333Z",
     "iopub.status.idle": "2024-08-19T19:52:20.642219Z",
     "shell.execute_reply": "2024-08-19T19:52:20.641167Z",
     "shell.execute_reply.started": "2024-08-19T19:52:20.628639Z"
    }
   },
   "outputs": [
    {
     "data": {
      "text/html": [
       "<div>\n",
       "<style scoped>\n",
       "    .dataframe tbody tr th:only-of-type {\n",
       "        vertical-align: middle;\n",
       "    }\n",
       "\n",
       "    .dataframe tbody tr th {\n",
       "        vertical-align: top;\n",
       "    }\n",
       "\n",
       "    .dataframe thead th {\n",
       "        text-align: right;\n",
       "    }\n",
       "</style>\n",
       "<table border=\"1\" class=\"dataframe\">\n",
       "  <thead>\n",
       "    <tr style=\"text-align: right;\">\n",
       "      <th></th>\n",
       "      <th>word</th>\n",
       "      <th>label</th>\n",
       "      <th>sentence_idx</th>\n",
       "    </tr>\n",
       "  </thead>\n",
       "  <tbody>\n",
       "    <tr>\n",
       "      <th>0</th>\n",
       "      <td>Abstrak</td>\n",
       "      <td>O</td>\n",
       "      <td>0</td>\n",
       "    </tr>\n",
       "    <tr>\n",
       "      <th>1</th>\n",
       "      <td>Kegiatan</td>\n",
       "      <td>O</td>\n",
       "      <td>0</td>\n",
       "    </tr>\n",
       "    <tr>\n",
       "      <th>2</th>\n",
       "      <td>pengabdian</td>\n",
       "      <td>O</td>\n",
       "      <td>0</td>\n",
       "    </tr>\n",
       "    <tr>\n",
       "      <th>3</th>\n",
       "      <td>kepada</td>\n",
       "      <td>O</td>\n",
       "      <td>0</td>\n",
       "    </tr>\n",
       "    <tr>\n",
       "      <th>4</th>\n",
       "      <td>masyarakat</td>\n",
       "      <td>O</td>\n",
       "      <td>0</td>\n",
       "    </tr>\n",
       "  </tbody>\n",
       "</table>\n",
       "</div>"
      ],
      "text/plain": [
       "         word label  sentence_idx\n",
       "0     Abstrak     O             0\n",
       "1    Kegiatan     O             0\n",
       "2  pengabdian     O             0\n",
       "3      kepada     O             0\n",
       "4  masyarakat     O             0"
      ]
     },
     "execution_count": 8,
     "metadata": {},
     "output_type": "execute_result"
    }
   ],
   "source": [
    "dataset.head()"
   ]
  },
  {
   "cell_type": "markdown",
   "metadata": {
    "_cell_guid": "ba6f0e4d-4b1e-40fa-a72a-df2502841ae4",
    "_uuid": "e5c4b55af4bce4308671e8a611c65bf64d0f0678"
   },
   "source": [
    "## Create list of list of tuples to differentiate each sentence from each other"
   ]
  },
  {
   "cell_type": "code",
   "execution_count": 9,
   "metadata": {
    "_cell_guid": "6cab4e05-47c2-4c5b-bcbb-f899f0639691",
    "_uuid": "198ccf9cc26eca32fd8e17b7f3e41bf0af3612b1",
    "execution": {
     "iopub.execute_input": "2024-08-19T19:52:20.644044Z",
     "iopub.status.busy": "2024-08-19T19:52:20.643710Z",
     "iopub.status.idle": "2024-08-19T19:52:20.653320Z",
     "shell.execute_reply": "2024-08-19T19:52:20.652032Z",
     "shell.execute_reply.started": "2024-08-19T19:52:20.643981Z"
    }
   },
   "outputs": [],
   "source": [
    "class SentenceGetter(object):\n",
    "    \n",
    "    def __init__(self, dataset):\n",
    "        self.n_sent = 1\n",
    "        self.dataset = dataset\n",
    "        self.empty = False\n",
    "        agg_func = lambda s: [(w, t) for w,t in zip(s[\"word\"].values.tolist(),\n",
    "                                                        s[\"label\"].values.tolist())]\n",
    "        self.grouped = self.dataset.groupby(\"sentence_idx\").apply(agg_func)\n",
    "        self.sentences = [s for s in self.grouped]\n",
    "    \n",
    "    def get_next(self):\n",
    "        try:\n",
    "            s = self.grouped[\"Sentence: {}\".format(self.n_sent)]\n",
    "            self.n_sent += 1\n",
    "            return s\n",
    "        except:\n",
    "            return None"
   ]
  },
  {
   "cell_type": "code",
   "execution_count": 10,
   "metadata": {
    "_cell_guid": "16006628-505a-4d37-a5f6-db6a428517b4",
    "_uuid": "fb62acd5794185e2d7714e76712af2ed2ccc6c1d",
    "execution": {
     "iopub.execute_input": "2024-08-19T19:52:20.654941Z",
     "iopub.status.busy": "2024-08-19T19:52:20.654634Z",
     "iopub.status.idle": "2024-08-19T19:52:20.809364Z",
     "shell.execute_reply": "2024-08-19T19:52:20.808492Z",
     "shell.execute_reply.started": "2024-08-19T19:52:20.654878Z"
    }
   },
   "outputs": [],
   "source": [
    "getter = SentenceGetter(dataset)"
   ]
  },
  {
   "cell_type": "code",
   "execution_count": 11,
   "metadata": {
    "_cell_guid": "5d0f958e-ac9c-41cb-a4bc-0256525d4f21",
    "_uuid": "88c8e7bc1b13eac9cffc3a8c4e17b27f116e5776",
    "execution": {
     "iopub.execute_input": "2024-08-19T19:52:20.811191Z",
     "iopub.status.busy": "2024-08-19T19:52:20.810868Z",
     "iopub.status.idle": "2024-08-19T19:52:20.814949Z",
     "shell.execute_reply": "2024-08-19T19:52:20.813990Z",
     "shell.execute_reply.started": "2024-08-19T19:52:20.811120Z"
    }
   },
   "outputs": [],
   "source": [
    "sentences = getter.sentences"
   ]
  },
  {
   "cell_type": "code",
   "execution_count": 12,
   "metadata": {
    "_cell_guid": "e33a8086-5906-45b4-8091-2ff97a48d180",
    "_uuid": "d8ef748ceed29d08cab896e10e173ffa750d402c",
    "execution": {
     "iopub.execute_input": "2024-08-19T19:52:20.816914Z",
     "iopub.status.busy": "2024-08-19T19:52:20.816588Z",
     "iopub.status.idle": "2024-08-19T19:52:20.828817Z",
     "shell.execute_reply": "2024-08-19T19:52:20.827635Z",
     "shell.execute_reply.started": "2024-08-19T19:52:20.816837Z"
    }
   },
   "outputs": [
    {
     "name": "stdout",
     "output_type": "stream",
     "text": [
      "[('Diversifikasi', 'O'), ('produk', 'O'), ('jenis', 'O'), ('Eucheuma', 'B-RUMPUT LAUT'), ('cottoni', 'I-RUMPUT LAUT'), ('menjadi', 'O'), ('minuman', 'O'), ('khas', 'O'), ('daerah', 'O'), ('berupa', 'O'), ('dawet', 'O'), ('bertujuan', 'O'), ('menghasilkan', 'O'), ('dawet', 'O'), ('Eucheuma', 'B-RUMPUT LAUT'), ('cottoni', 'I-RUMPUT LAUT'), ('serta', 'O'), ('mengetahui', 'O'), ('perbandingan', 'O'), ('jumlah', 'O'), ('adonan', 'O'), ('dawet', 'O'), ('menghasilkan', 'O'), ('tekstur', 'O'), ('aroma', 'O'), ('rasa', 'O'), ('dawet', 'O'), ('disukai', 'O'), ('cara', 'O'), ('pembuatan', 'O'), ('bubur', 'O'), ('adonan', 'O'), ('dawet', 'O'), ('Perlakuan', 'O'), ('mengetahui', 'O'), ('perbandingan', 'O'), ('adonan', 'O'), ('agar', 'O'), ('mendapatkan', 'O'), ('dawet', 'O'), ('paling', 'O'), ('disukai', 'O'), ('oleh', 'O'), ('panelis', 'O'), ('Perlakuan', 'O'), ('perbandingan', 'O'), ('antara', 'O'), ('bubur', 'O'), ('adonan', 'O'), ('dawet', 'O'), ('antara', 'O'), ('lain', 'O'), ('P1', 'O'), ('0', 'O'), ('adonan', 'O'), ('dawet', 'O'), ('500', 'O'), ('gram', 'O'), ('P2', 'O'), ('50', 'O'), ('adonan', 'O'), ('dawet', 'O'), ('500', 'O'), ('gram', 'O'), ('bubur', 'O'), ('250', 'O'), ('gram', 'O'), ('P3', 'O'), ('70', 'O'), ('adonan', 'O'), ('dawet', 'O'), ('500', 'O'), ('gram', 'O'), ('bubur', 'O'), ('350', 'O'), ('gram', 'O'), ('P4', 'O'), ('90', 'O'), ('adonan', 'O'), ('dawet', 'O'), ('500', 'O'), ('gram', 'O'), ('bubur', 'O'), ('450', 'O'), ('gram', 'O'), ('Selanjutnya', 'O'), ('masing-masing', 'O'), ('dimasak', 'O'), ('hingga', 'O'), ('matang', 'O'), ('menjadi', 'O'), ('adonan', 'O'), ('dawet', 'O'), ('siap', 'O'), ('dicetak', 'O'), ('Adonan', 'O'), ('dicetak', 'O'), ('keadaan', 'O'), ('panas', 'O'), ('cetakan', 'O'), ('dawet', 'O'), ('diatas', 'O'), ('matang', 'O'), ('sudah', 'O'), ('diberi', 'O'), ('es.Produk', 'O'), ('akhir', 'O'), ('dihasilkan', 'O'), ('selanjutnya', 'O'), ('organoleptik', 'O'), ('mengetahui', 'O'), ('kesukaan', 'O'), ('panelis', 'O'), ('tekstur', 'O'), ('aroma', 'O'), ('rasa', 'O'), ('dawet', 'O'), ('dihasilkan', 'O'), ('organoleptik', 'O'), ('selanjutnya', 'O'), ('dianalisis', 'O'), ('deskriptif', 'O'), ('analisis', 'O'), ('sidik', 'O'), ('ragam', 'O'), ('Anova', 'O'), ('analisis', 'O'), ('kesukaan', 'O'), ('panelis', 'O'), ('tekstur', 'O'), ('aroma', 'O'), ('rasa', 'O'), ('serta', 'O'), ('dawet', 'O'), ('keseluruhan', 'O'), ('dawet', 'O'), ('terbaik', 'O'), ('P3', 'O'), ('70', 'O'), ('analisis', 'O'), ('sidik', 'O'), ('ragam', 'O'), ('Anova', 'O'), ('tidak', 'O'), ('ada', 'O'), ('beda', 'O'), ('nyata', 'O'), ('penambahan', 'O'), ('tekstur', 'O'), ('aroma', 'O'), ('rasa', 'O'), ('dawet', 'O'), ('dihasilkan', 'O'), ('antara', 'O'), ('masing-masing', 'O'), ('P1', 'O'), ('P2', 'O'), ('P3', 'O'), ('P4', 'O')]\n"
     ]
    }
   ],
   "source": [
    "print(sentences[29])"
   ]
  },
  {
   "cell_type": "code",
   "execution_count": 13,
   "metadata": {
    "_cell_guid": "88cb5e40-fe8a-47a9-9be2-a23340c28a5c",
    "_uuid": "2f4479487f075f8c196a7af9ffaf5dd943a1326d",
    "execution": {
     "iopub.execute_input": "2024-08-19T19:52:20.830814Z",
     "iopub.status.busy": "2024-08-19T19:52:20.830451Z",
     "iopub.status.idle": "2024-08-19T19:52:20.840528Z",
     "shell.execute_reply": "2024-08-19T19:52:20.839606Z",
     "shell.execute_reply.started": "2024-08-19T19:52:20.830747Z"
    }
   },
   "outputs": [
    {
     "name": "stdout",
     "output_type": "stream",
     "text": [
      "Maximum sequence length: 249\n"
     ]
    }
   ],
   "source": [
    "maxlen = max([len(s) for s in sentences])\n",
    "print ('Maximum sequence length:', maxlen)"
   ]
  },
  {
   "cell_type": "code",
   "execution_count": 16,
   "metadata": {
    "_cell_guid": "4efea2e0-276c-44bb-b0ce-c94ac99cbf91",
    "_uuid": "db68187a5ea707569031c83db34ca4284025bb8b",
    "execution": {
     "iopub.execute_input": "2024-08-19T19:52:21.227807Z",
     "iopub.status.busy": "2024-08-19T19:52:21.227243Z",
     "iopub.status.idle": "2024-08-19T19:52:21.236141Z",
     "shell.execute_reply": "2024-08-19T19:52:21.234684Z",
     "shell.execute_reply.started": "2024-08-19T19:52:21.227747Z"
    }
   },
   "outputs": [],
   "source": [
    "words = list(set(dataset[\"word\"].values))\n",
    "words.append(\"ENDPAD\")"
   ]
  },
  {
   "cell_type": "code",
   "execution_count": 17,
   "metadata": {
    "_cell_guid": "5b3697b0-0e7d-4265-9fd1-8001792e6fa5",
    "_uuid": "139a721c0b0036e9cc97892ab8d3d2c3ea0ebafa",
    "execution": {
     "iopub.execute_input": "2024-08-19T19:52:21.238652Z",
     "iopub.status.busy": "2024-08-19T19:52:21.238062Z",
     "iopub.status.idle": "2024-08-19T19:52:21.250383Z",
     "shell.execute_reply": "2024-08-19T19:52:21.249393Z",
     "shell.execute_reply.started": "2024-08-19T19:52:21.238408Z"
    }
   },
   "outputs": [
    {
     "data": {
      "text/plain": [
       "16513"
      ]
     },
     "execution_count": 17,
     "metadata": {},
     "output_type": "execute_result"
    }
   ],
   "source": [
    "n_words = len(words); n_words"
   ]
  },
  {
   "cell_type": "markdown",
   "metadata": {},
   "source": [
    "## Fix the tags"
   ]
  },
  {
   "cell_type": "code",
   "execution_count": 18,
   "metadata": {
    "_cell_guid": "2dc974c3-e5df-45dd-9aff-f8ec43e52399",
    "_uuid": "b51ed46f6c6956fc92a71033c82d804455a01e3d",
    "execution": {
     "iopub.execute_input": "2024-08-19T19:52:21.253317Z",
     "iopub.status.busy": "2024-08-19T19:52:21.252368Z",
     "iopub.status.idle": "2024-08-19T19:52:21.264545Z",
     "shell.execute_reply": "2024-08-19T19:52:21.263800Z",
     "shell.execute_reply.started": "2024-08-19T19:52:21.253241Z"
    }
   },
   "outputs": [
    {
     "name": "stdout",
     "output_type": "stream",
     "text": [
      "['B-LOKASI', 'I-LOKASI', 'B-RUMPUT LAUT', 'O', 'I-RUMPUT LAUT']\n"
     ]
    }
   ],
   "source": [
    "tags = []\n",
    "for tag in set(dataset[\"label\"].values):\n",
    "    if tag is nan or isinstance(tag, float):\n",
    "        tags.append('unk')\n",
    "    else:\n",
    "        tags.append(tag)\n",
    "print(tags)"
   ]
  },
  {
   "cell_type": "code",
   "execution_count": 19,
   "metadata": {
    "_cell_guid": "6cd182c7-7f68-420b-b10f-121da695184e",
    "_uuid": "a426a4acd9481ef8618830c9265f4887d63ec9b5",
    "execution": {
     "iopub.execute_input": "2024-08-19T19:52:21.266161Z",
     "iopub.status.busy": "2024-08-19T19:52:21.265720Z",
     "iopub.status.idle": "2024-08-19T19:52:21.274467Z",
     "shell.execute_reply": "2024-08-19T19:52:21.273582Z",
     "shell.execute_reply.started": "2024-08-19T19:52:21.266100Z"
    }
   },
   "outputs": [
    {
     "data": {
      "text/plain": [
       "5"
      ]
     },
     "execution_count": 19,
     "metadata": {},
     "output_type": "execute_result"
    }
   ],
   "source": [
    "n_tags = len(tags); n_tags"
   ]
  },
  {
   "cell_type": "markdown",
   "metadata": {
    "_cell_guid": "15e92312-4539-490c-a34a-8d8c91e97e0e",
    "_uuid": "8d7134b27205443861225d5820d2ac9e0049e30e"
   },
   "source": [
    "**Converting words to numbers and numbers to words**"
   ]
  },
  {
   "cell_type": "code",
   "execution_count": 20,
   "metadata": {
    "_cell_guid": "805f61f0-ec6b-4afc-a1f6-60a5fe015023",
    "_uuid": "b8109f08b55281540b01c07d95666b2f413aa0a8",
    "execution": {
     "iopub.execute_input": "2024-08-19T19:52:21.276459Z",
     "iopub.status.busy": "2024-08-19T19:52:21.275999Z",
     "iopub.status.idle": "2024-08-19T19:52:21.290780Z",
     "shell.execute_reply": "2024-08-19T19:52:21.289691Z",
     "shell.execute_reply.started": "2024-08-19T19:52:21.276271Z"
    }
   },
   "outputs": [],
   "source": [
    "from future.utils import iteritems\n",
    "word2idx = {w: i for i, w in enumerate(words)}\n",
    "tag2idx = {t: i for i, t in enumerate(tags)}\n",
    "idx2tag = {v: k for k, v in iteritems(tag2idx)}"
   ]
  },
  {
   "cell_type": "code",
   "execution_count": 21,
   "metadata": {
    "_cell_guid": "36b9e479-e006-4d4d-9d0b-fbaf6c89db77",
    "_uuid": "28bf99df1f14a53181bb3eade1ebf68f1d2f8cf8",
    "execution": {
     "iopub.execute_input": "2024-08-19T19:52:21.293002Z",
     "iopub.status.busy": "2024-08-19T19:52:21.292664Z",
     "iopub.status.idle": "2024-08-19T19:52:21.298361Z",
     "shell.execute_reply": "2024-08-19T19:52:21.297379Z",
     "shell.execute_reply.started": "2024-08-19T19:52:21.292942Z"
    }
   },
   "outputs": [
    {
     "data": {
      "text/plain": [
       "7865"
      ]
     },
     "execution_count": 21,
     "metadata": {},
     "output_type": "execute_result"
    }
   ],
   "source": [
    "word2idx['Desa']"
   ]
  },
  {
   "cell_type": "code",
   "execution_count": 23,
   "metadata": {
    "execution": {
     "iopub.execute_input": "2024-08-19T19:52:21.314325Z",
     "iopub.status.busy": "2024-08-19T19:52:21.314037Z",
     "iopub.status.idle": "2024-08-19T19:52:21.326030Z",
     "shell.execute_reply": "2024-08-19T19:52:21.325161Z",
     "shell.execute_reply.started": "2024-08-19T19:52:21.314279Z"
    }
   },
   "outputs": [
    {
     "data": {
      "text/plain": [
       "{'B-LOKASI': 0, 'I-LOKASI': 1, 'B-RUMPUT LAUT': 2, 'O': 3, 'I-RUMPUT LAUT': 4}"
      ]
     },
     "execution_count": 23,
     "metadata": {},
     "output_type": "execute_result"
    }
   ],
   "source": [
    "tag2idx"
   ]
  },
  {
   "cell_type": "code",
   "execution_count": 24,
   "metadata": {
    "execution": {
     "iopub.execute_input": "2024-08-19T19:52:21.327692Z",
     "iopub.status.busy": "2024-08-19T19:52:21.327425Z",
     "iopub.status.idle": "2024-08-19T19:52:21.338370Z",
     "shell.execute_reply": "2024-08-19T19:52:21.337539Z",
     "shell.execute_reply.started": "2024-08-19T19:52:21.327646Z"
    }
   },
   "outputs": [
    {
     "data": {
      "text/plain": [
       "'B-LOKASI'"
      ]
     },
     "execution_count": 24,
     "metadata": {},
     "output_type": "execute_result"
    }
   ],
   "source": [
    "idx2tag[0]"
   ]
  },
  {
   "cell_type": "code",
   "execution_count": 25,
   "metadata": {
    "execution": {
     "iopub.execute_input": "2024-08-19T19:52:21.340472Z",
     "iopub.status.busy": "2024-08-19T19:52:21.340085Z",
     "iopub.status.idle": "2024-08-19T19:52:21.351210Z",
     "shell.execute_reply": "2024-08-19T19:52:21.350203Z",
     "shell.execute_reply.started": "2024-08-19T19:52:21.340406Z"
    }
   },
   "outputs": [
    {
     "data": {
      "text/plain": [
       "{0: 'B-LOKASI', 1: 'I-LOKASI', 2: 'B-RUMPUT LAUT', 3: 'O', 4: 'I-RUMPUT LAUT'}"
      ]
     },
     "execution_count": 25,
     "metadata": {},
     "output_type": "execute_result"
    }
   ],
   "source": [
    "idx2tag"
   ]
  },
  {
   "cell_type": "code",
   "execution_count": 26,
   "metadata": {
    "execution": {
     "iopub.execute_input": "2024-08-19T19:52:21.352973Z",
     "iopub.status.busy": "2024-08-19T19:52:21.352670Z",
     "iopub.status.idle": "2024-08-19T19:52:21.364102Z",
     "shell.execute_reply": "2024-08-19T19:52:21.363311Z",
     "shell.execute_reply.started": "2024-08-19T19:52:21.352920Z"
    }
   },
   "outputs": [
    {
     "data": {
      "text/plain": [
       "[('Persediaan', 'O'),\n",
       " ('Bahan', 'O'),\n",
       " ('Bakar', 'O'),\n",
       " ('Minyak', 'O'),\n",
       " ('BBM', 'O'),\n",
       " ('semakin', 'O'),\n",
       " ('menipis', 'O'),\n",
       " ('suatu', 'O'),\n",
       " ('saat', 'O'),\n",
       " ('habis', 'O'),\n",
       " ('sama', 'O'),\n",
       " ('sekali', 'O'),\n",
       " ('Pemakaian', 'O'),\n",
       " ('energi', 'O'),\n",
       " ('BBM', 'O'),\n",
       " ('juga', 'O'),\n",
       " ('menghasilkan', 'O'),\n",
       " ('polusi', 'O'),\n",
       " ('berakibat', 'O'),\n",
       " ('pemanasan', 'O'),\n",
       " ('global', 'O'),\n",
       " ('Diperlukan', 'O'),\n",
       " ('upaya', 'O'),\n",
       " ('pengadaan', 'O'),\n",
       " ('energi', 'O'),\n",
       " ('alternatif', 'O'),\n",
       " ('mengurangi', 'O'),\n",
       " ('ketergantungan', 'O'),\n",
       " ('bahan', 'O'),\n",
       " ('bakar', 'O'),\n",
       " ('bersumber', 'O'),\n",
       " ('fosil', 'O'),\n",
       " ('sehingga', 'O'),\n",
       " ('perlu', 'O'),\n",
       " ('dikembangkan', 'O'),\n",
       " ('pemanfaatan', 'O'),\n",
       " ('energi', 'O'),\n",
       " ('baru', 'O'),\n",
       " ('terbarukan', 'O'),\n",
       " ('seperti', 'O'),\n",
       " ('biofuel', 'O'),\n",
       " ('Akan', 'O'),\n",
       " ('tetapi', 'O'),\n",
       " ('proses', 'O'),\n",
       " ('beberapa', 'O'),\n",
       " ('tanaman', 'O'),\n",
       " ('sumber', 'O'),\n",
       " ('biofuel', 'O'),\n",
       " ('memerlukan', 'O'),\n",
       " ('lahan', 'O'),\n",
       " ('cukup', 'O'),\n",
       " ('luas', 'O'),\n",
       " ('lahan', 'O'),\n",
       " ('tersedia', 'O'),\n",
       " ('lebih', 'O'),\n",
       " ('diprioritaskan', 'O'),\n",
       " ('lahan', 'O'),\n",
       " ('tanaman', 'O'),\n",
       " ('pangan', 'O'),\n",
       " ('Perairan', 'O'),\n",
       " ('Indonesia', 'O'),\n",
       " ('wilayah', 'O'),\n",
       " ('tropika', 'O'),\n",
       " ('memiliki', 'O'),\n",
       " ('sumberdaya', 'O'),\n",
       " ('plasma', 'O'),\n",
       " ('nutfah', 'O'),\n",
       " ('6,42', 'O'),\n",
       " ('total', 'O'),\n",
       " ('biodiversitas', 'O'),\n",
       " ('dunia', 'O'),\n",
       " ('Luas', 'O'),\n",
       " ('wilayah', 'O'),\n",
       " ('menjadi', 'O'),\n",
       " ('habitat', 'O'),\n",
       " ('Indonesia', 'B-LOKASI'),\n",
       " ('sekitar', 'O'),\n",
       " ('1,2', 'O'),\n",
       " ('juta', 'O'),\n",
       " ('hektar', 'O'),\n",
       " ('sehingga', 'O'),\n",
       " ('memiliki', 'O'),\n",
       " ('potensi', 'O'),\n",
       " ('sangat', 'O'),\n",
       " ('besar', 'O'),\n",
       " ('dimanfaatkan', 'O'),\n",
       " ('sumber', 'O'),\n",
       " ('bietanol', 'O'),\n",
       " ('tanpa', 'O'),\n",
       " ('harus', 'O'),\n",
       " ('lahan', 'O'),\n",
       " ('kebutuhan', 'O'),\n",
       " ('pangan', 'O'),\n",
       " ('Teknik', 'O'),\n",
       " ('proses', 'O'),\n",
       " ('hidrolisa', 'O'),\n",
       " ('fermentasi', 'O'),\n",
       " ('kemudian', 'O'),\n",
       " ('pemurnian', 'O'),\n",
       " ('distilasi.Kata', 'O'),\n",
       " ('kunci', 'O'),\n",
       " ('energi', 'O'),\n",
       " ('alternatif', 'O'),\n",
       " ('biofuel', 'O')]"
      ]
     },
     "execution_count": 26,
     "metadata": {},
     "output_type": "execute_result"
    }
   ],
   "source": [
    "sentences[66]"
   ]
  },
  {
   "cell_type": "code",
   "execution_count": 27,
   "metadata": {
    "_cell_guid": "5cd7d9ad-77ae-49ba-b99e-6429a949dede",
    "_uuid": "b25bb0979a6bbe8c6eb11b05c23109592d318a5b",
    "execution": {
     "iopub.execute_input": "2024-08-19T19:52:21.366032Z",
     "iopub.status.busy": "2024-08-19T19:52:21.365695Z",
     "iopub.status.idle": "2024-08-19T19:52:21.381860Z",
     "shell.execute_reply": "2024-08-19T19:52:21.380885Z",
     "shell.execute_reply.started": "2024-08-19T19:52:21.365979Z"
    }
   },
   "outputs": [],
   "source": [
    "from keras.preprocessing.sequence import pad_sequences\n",
    "X = [[word2idx[w[0]] for w in s] for s in sentences]"
   ]
  },
  {
   "cell_type": "code",
   "execution_count": 28,
   "metadata": {
    "execution": {
     "iopub.execute_input": "2024-08-19T19:52:21.383861Z",
     "iopub.status.busy": "2024-08-19T19:52:21.383481Z",
     "iopub.status.idle": "2024-08-19T19:52:21.397735Z",
     "shell.execute_reply": "2024-08-19T19:52:21.396611Z",
     "shell.execute_reply.started": "2024-08-19T19:52:21.383794Z"
    }
   },
   "outputs": [
    {
     "name": "stderr",
     "output_type": "stream",
     "text": [
      "c:\\Users\\mfthr\\anaconda3\\envs\\BiLSTMCRF\\lib\\site-packages\\ipykernel_launcher.py:1: VisibleDeprecationWarning: Creating an ndarray from ragged nested sequences (which is a list-or-tuple of lists-or-tuples-or ndarrays with different lengths or shapes) is deprecated. If you meant to do this, you must specify 'dtype=object' when creating the ndarray.\n",
      "  \"\"\"Entry point for launching an IPython kernel.\n"
     ]
    },
    {
     "data": {
      "text/plain": [
       "(1078,)"
      ]
     },
     "execution_count": 28,
     "metadata": {},
     "output_type": "execute_result"
    }
   ],
   "source": [
    "np.array(X).shape"
   ]
  },
  {
   "cell_type": "code",
   "execution_count": 29,
   "metadata": {
    "_cell_guid": "c3ff7a53-4e1b-4b82-bf2e-d581dbdc4315",
    "_uuid": "75ab049dc0c8a6408913da28666c21ac6f9385d3",
    "execution": {
     "iopub.execute_input": "2024-08-19T19:52:21.403486Z",
     "iopub.status.busy": "2024-08-19T19:52:21.403121Z",
     "iopub.status.idle": "2024-08-19T19:52:21.426717Z",
     "shell.execute_reply": "2024-08-19T19:52:21.425771Z",
     "shell.execute_reply.started": "2024-08-19T19:52:21.403434Z"
    }
   },
   "outputs": [],
   "source": [
    "X = pad_sequences(maxlen=maxlen, sequences=X, padding=\"post\",value=n_words - 1)"
   ]
  },
  {
   "cell_type": "code",
   "execution_count": 30,
   "metadata": {
    "_cell_guid": "5d331c3d-a729-454d-ba92-2f3540e3ecac",
    "_uuid": "50607669ece7f12df2be2836193540a0375d848d",
    "execution": {
     "iopub.execute_input": "2024-08-19T19:52:21.429084Z",
     "iopub.status.busy": "2024-08-19T19:52:21.428751Z",
     "iopub.status.idle": "2024-08-19T19:52:21.445929Z",
     "shell.execute_reply": "2024-08-19T19:52:21.444965Z",
     "shell.execute_reply.started": "2024-08-19T19:52:21.429025Z"
    }
   },
   "outputs": [
    {
     "name": "stdout",
     "output_type": "stream",
     "text": [
      "[('bertujuan', 'O'), ('mengetahui', 'O'), ('menganalisa', 'O'), ('bagaimana', 'O'), ('gambaran', 'O'), ('UKM', 'O'), ('pantai', 'B-LOKASI'), ('amal', 'I-LOKASI'), ('dinilai', 'O'), ('usaha', 'O'), ('ukm', 'O'), ('milik', 'O'), ('Pak', 'O'), ('jaka', 'O'), ('digolongkan', 'O'), ('masih', 'O'), ('kurang', 'O'), ('layak', 'O'), ('dijalankan', 'O'), ('dikarenakan', 'O'), ('aspek-aspek', 'O'), ('dinilai', 'O'), ('hanya', 'O'), ('2', 'O'), ('aspek', 'O'), ('cukup', 'O'), ('atau', 'O'), ('melebihi', 'O'), ('setengah', 'O'), ('skor', 'O'), ('diberikan', 'O'), ('Kedua', 'O'), ('aspek', 'O'), ('tesebut', 'O'), ('meliputi', 'O'), ('Aspek', 'O'), ('Produksi', 'O'), ('15', 'O'), ('skor', 'O'), ('28', 'O'), ('kedua', 'O'), ('Aspek', 'O'), ('Lingkungan', 'O'), ('12', 'O'), ('24', 'O')]\n",
      "[3, 3, 3, 3, 3, 3, 0, 1, 3, 3, 3, 3, 3, 3, 3, 3, 3, 3, 3, 3, 3, 3, 3, 3, 3, 3, 3, 3, 3, 3, 3, 3, 3, 3, 3, 3, 3, 3, 3, 3, 3, 3, 3, 3, 3]\n"
     ]
    }
   ],
   "source": [
    "y_idx = [[tag2idx[w[1]] for w in s] for s in sentences]\n",
    "print(sentences[11])\n",
    "print(y_idx[11])"
   ]
  },
  {
   "cell_type": "code",
   "execution_count": 31,
   "metadata": {
    "_cell_guid": "8ee02d57-7dc2-4516-9f3b-42507d1d7369",
    "_uuid": "61183c55adee810a0b161cbdfa2a6024862251a4",
    "execution": {
     "iopub.execute_input": "2024-08-19T19:52:21.448046Z",
     "iopub.status.busy": "2024-08-19T19:52:21.447714Z",
     "iopub.status.idle": "2024-08-19T19:52:21.469440Z",
     "shell.execute_reply": "2024-08-19T19:52:21.468519Z",
     "shell.execute_reply.started": "2024-08-19T19:52:21.447969Z"
    }
   },
   "outputs": [
    {
     "name": "stdout",
     "output_type": "stream",
     "text": [
      "[3, 3, 3, 2, 4, 3, 3, 3, 3, 3, 0, 1, 1, 0, 1, 1, 3, 3, 3, 3, 3, 0, 1, 3, 3, 3, 3, 3, 3, 3, 3, 3, 3, 3, 3, 3, 3, 3, 3, 3, 3, 3, 3, 3, 3, 3, 3, 3, 3, 3, 3, 3, 0, 3, 3, 3, 3, 3, 3, 3, 3, 3, 3, 3, 3, 3, 3, 3, 3, 3, 3, 3, 3]\n"
     ]
    }
   ],
   "source": [
    "y = pad_sequences(maxlen=249, sequences=y_idx, padding=\"post\", value=tag2idx[\"O\"])\n",
    "print(y_idx[10])"
   ]
  },
  {
   "cell_type": "code",
   "execution_count": 32,
   "metadata": {
    "execution": {
     "iopub.execute_input": "2024-08-19T19:52:21.471354Z",
     "iopub.status.busy": "2024-08-19T19:52:21.471030Z",
     "iopub.status.idle": "2024-08-19T19:52:21.484548Z",
     "shell.execute_reply": "2024-08-19T19:52:21.483287Z",
     "shell.execute_reply.started": "2024-08-19T19:52:21.471299Z"
    }
   },
   "outputs": [
    {
     "name": "stdout",
     "output_type": "stream",
     "text": [
      "O                132743\n",
      "I-LOKASI           3288\n",
      "B-LOKASI           3007\n",
      "B-RUMPUT LAUT      2576\n",
      "I-RUMPUT LAUT      1823\n",
      "Name: label, dtype: int64\n"
     ]
    }
   ],
   "source": [
    "print(dataset[\"label\"].value_counts())"
   ]
  },
  {
   "cell_type": "code",
   "execution_count": 33,
   "metadata": {
    "_cell_guid": "75b64d49-10a1-411c-85bc-5861a257670e",
    "_uuid": "bd9a39278a2010d51ff4f4a9ccbf0df1d6ee5612",
    "execution": {
     "iopub.execute_input": "2024-08-19T19:52:21.486243Z",
     "iopub.status.busy": "2024-08-19T19:52:21.485875Z",
     "iopub.status.idle": "2024-08-19T19:52:21.511012Z",
     "shell.execute_reply": "2024-08-19T19:52:21.510119Z",
     "shell.execute_reply.started": "2024-08-19T19:52:21.486119Z"
    }
   },
   "outputs": [],
   "source": [
    "from keras.utils import to_categorical\n",
    "y = [to_categorical(i, num_classes=n_tags) for i in y]"
   ]
  },
  {
   "cell_type": "code",
   "execution_count": 34,
   "metadata": {
    "_cell_guid": "b33bf24e-22cb-4cf4-b504-e84f0ccc84e5",
    "_uuid": "75c39949b2cce357b15f5c42f73421a4b0116de5",
    "execution": {
     "iopub.execute_input": "2024-08-19T19:52:21.512941Z",
     "iopub.status.busy": "2024-08-19T19:52:21.512571Z",
     "iopub.status.idle": "2024-08-19T19:52:22.372646Z",
     "shell.execute_reply": "2024-08-19T19:52:22.371641Z",
     "shell.execute_reply.started": "2024-08-19T19:52:21.512873Z"
    }
   },
   "outputs": [],
   "source": [
    "from sklearn.model_selection import train_test_split\n",
    "X_train, X_test, y_train, y_test = train_test_split(X, y, test_size=0.2)"
   ]
  },
  {
   "cell_type": "code",
   "execution_count": 35,
   "metadata": {
    "execution": {
     "iopub.execute_input": "2024-08-19T19:52:22.374687Z",
     "iopub.status.busy": "2024-08-19T19:52:22.374341Z",
     "iopub.status.idle": "2024-08-19T19:52:22.383289Z",
     "shell.execute_reply": "2024-08-19T19:52:22.382291Z",
     "shell.execute_reply.started": "2024-08-19T19:52:22.374637Z"
    }
   },
   "outputs": [
    {
     "data": {
      "text/plain": [
       "array([11572,  5650, 12841,  4928,  5406, 13408,  2312,  4261, 12103,\n",
       "       10877,  5558,  5406, 13199, 13237,  8773,  8053, 13237,  2337,\n",
       "        7028,  7342, 12088,  6754,  9191,  7493, 14635, 13225, 10070,\n",
       "       12088, 16179, 13127, 11106, 12673,  8188,  9940, 15278, 15802,\n",
       "        8959, 13207, 12077, 13408,  8294,  8773,   808, 16294, 12077,\n",
       "       13408,  8294,  8773, 13284, 12711, 12077, 13408,  8294,  8773,\n",
       "        7076,  1216,  6330, 12882, 12368,  4261, 12103, 10877,  4997,\n",
       "       12183, 15767,  5406, 11901,  2495,   694,  7901,  5162,  7187,\n",
       "        9626,  1097, 12146, 12690,  4928,  8294,  8773,  7840,  6346,\n",
       "       14647,  6619,  3375, 13347, 10105, 12249,  4997, 12183, 15767,\n",
       "        6647,  4304,  7840,  6346, 10877,  5406, 13408,  2312, 14965,\n",
       "       12249, 13207, 16294, 12711, 13897, 11094, 10776,  5149,  6236,\n",
       "       10877, 13207, 16294, 12711, 10851,  4908, 10909,  6236, 10105,\n",
       "        4997, 13207, 12711, 16294,  5208, 15005,  5399,  6236, 10105,\n",
       "       12183, 13207, 16294, 12711, 13111, 10454,  5216,  6236, 10105,\n",
       "       15767, 13207, 16294, 12711,  5208,  4084,  4781,  2369,  4928,\n",
       "        8294,  8773,  2922,  7076, 13347,  4261, 12103,  5406, 10877,\n",
       "        5406, 10419,  4997,  9173, 10846, 12183,  5406,  1071, 13224,\n",
       "       15767,  5406,  9713, 15377, 11019, 16512, 16512, 16512, 16512,\n",
       "       16512, 16512, 16512, 16512, 16512, 16512, 16512, 16512, 16512,\n",
       "       16512, 16512, 16512, 16512, 16512, 16512, 16512, 16512, 16512,\n",
       "       16512, 16512, 16512, 16512, 16512, 16512, 16512, 16512, 16512,\n",
       "       16512, 16512, 16512, 16512, 16512, 16512, 16512, 16512, 16512,\n",
       "       16512, 16512, 16512, 16512, 16512, 16512, 16512, 16512, 16512,\n",
       "       16512, 16512, 16512, 16512, 16512, 16512, 16512, 16512, 16512,\n",
       "       16512, 16512, 16512, 16512, 16512, 16512, 16512, 16512, 16512,\n",
       "       16512, 16512, 16512, 16512, 16512, 16512, 16512, 16512, 16512,\n",
       "       16512, 16512, 16512, 16512, 16512, 16512])"
      ]
     },
     "execution_count": 35,
     "metadata": {},
     "output_type": "execute_result"
    }
   ],
   "source": [
    "X_test[90]"
   ]
  },
  {
   "cell_type": "code",
   "execution_count": 36,
   "metadata": {},
   "outputs": [
    {
     "data": {
      "text/plain": [
       "array([[0., 0., 0., 1., 0.],\n",
       "       [0., 0., 0., 1., 0.],\n",
       "       [0., 0., 0., 1., 0.],\n",
       "       ...,\n",
       "       [0., 0., 0., 1., 0.],\n",
       "       [0., 0., 0., 1., 0.],\n",
       "       [0., 0., 0., 1., 0.]], dtype=float32)"
      ]
     },
     "execution_count": 36,
     "metadata": {},
     "output_type": "execute_result"
    }
   ],
   "source": [
    "y_test[1]"
   ]
  },
  {
   "cell_type": "markdown",
   "metadata": {},
   "source": [
    "# Build Model"
   ]
  },
  {
   "cell_type": "markdown",
   "metadata": {},
   "source": [
    "## Import Keras"
   ]
  },
  {
   "cell_type": "code",
   "execution_count": 37,
   "metadata": {
    "_cell_guid": "00a15ead-883e-4348-96df-e86dcb65a945",
    "_uuid": "89375c4a136104777c96a13b02d2810d78bcc1d9",
    "execution": {
     "iopub.execute_input": "2024-08-19T19:52:22.385263Z",
     "iopub.status.busy": "2024-08-19T19:52:22.384928Z",
     "iopub.status.idle": "2024-08-19T19:52:22.394912Z",
     "shell.execute_reply": "2024-08-19T19:52:22.393955Z",
     "shell.execute_reply.started": "2024-08-19T19:52:22.385206Z"
    }
   },
   "outputs": [],
   "source": [
    "from keras.models import Model, Input\n",
    "from keras.layers import LSTM, Embedding, Dense, TimeDistributed, Dropout, Bidirectional\n",
    "import keras as k"
   ]
  },
  {
   "cell_type": "markdown",
   "metadata": {},
   "source": [
    "## Keras version"
   ]
  },
  {
   "cell_type": "code",
   "execution_count": 38,
   "metadata": {
    "execution": {
     "iopub.execute_input": "2024-08-19T19:52:22.396991Z",
     "iopub.status.busy": "2024-08-19T19:52:22.396652Z",
     "iopub.status.idle": "2024-08-19T19:52:22.406715Z",
     "shell.execute_reply": "2024-08-19T19:52:22.405370Z",
     "shell.execute_reply.started": "2024-08-19T19:52:22.396923Z"
    }
   },
   "outputs": [
    {
     "name": "stdout",
     "output_type": "stream",
     "text": [
      "2.2.4\n"
     ]
    }
   ],
   "source": [
    "print(k.__version__)"
   ]
  },
  {
   "cell_type": "markdown",
   "metadata": {},
   "source": [
    "## Model\n",
    " **Pay attention to the word embedding size"
   ]
  },
  {
   "cell_type": "code",
   "execution_count": 39,
   "metadata": {
    "execution": {
     "iopub.execute_input": "2024-08-19T19:52:22.408669Z",
     "iopub.status.busy": "2024-08-19T19:52:22.408347Z",
     "iopub.status.idle": "2024-08-19T19:52:25.070892Z",
     "shell.execute_reply": "2024-08-19T19:52:25.069908Z",
     "shell.execute_reply.started": "2024-08-19T19:52:22.408607Z"
    }
   },
   "outputs": [
    {
     "name": "stdout",
     "output_type": "stream",
     "text": [
      "WARNING:tensorflow:From c:\\Users\\mfthr\\anaconda3\\envs\\BiLSTMCRF\\lib\\site-packages\\keras\\backend\\tensorflow_backend.py:74: The name tf.get_default_graph is deprecated. Please use tf.compat.v1.get_default_graph instead.\n",
      "\n",
      "WARNING:tensorflow:From c:\\Users\\mfthr\\anaconda3\\envs\\BiLSTMCRF\\lib\\site-packages\\keras\\backend\\tensorflow_backend.py:517: The name tf.placeholder is deprecated. Please use tf.compat.v1.placeholder instead.\n",
      "\n",
      "WARNING:tensorflow:From c:\\Users\\mfthr\\anaconda3\\envs\\BiLSTMCRF\\lib\\site-packages\\keras\\backend\\tensorflow_backend.py:4138: The name tf.random_uniform is deprecated. Please use tf.random.uniform instead.\n",
      "\n",
      "WARNING:tensorflow:From c:\\Users\\mfthr\\anaconda3\\envs\\BiLSTMCRF\\lib\\site-packages\\keras\\backend\\tensorflow_backend.py:4185: The name tf.truncated_normal is deprecated. Please use tf.random.truncated_normal instead.\n",
      "\n",
      "WARNING:tensorflow:From c:\\Users\\mfthr\\anaconda3\\envs\\BiLSTMCRF\\lib\\site-packages\\keras\\backend\\tensorflow_backend.py:133: The name tf.placeholder_with_default is deprecated. Please use tf.compat.v1.placeholder_with_default instead.\n",
      "\n",
      "WARNING:tensorflow:From c:\\Users\\mfthr\\anaconda3\\envs\\BiLSTMCRF\\lib\\site-packages\\keras\\backend\\tensorflow_backend.py:3445: calling dropout (from tensorflow.python.ops.nn_ops) with keep_prob is deprecated and will be removed in a future version.\n",
      "Instructions for updating:\n",
      "Please use `rate` instead of `keep_prob`. Rate should be set to `rate = 1 - keep_prob`.\n"
     ]
    }
   ],
   "source": [
    "max_sequence_length = 249\n",
    "word_embedding_size = 100\n",
    "lstm_units = 64\n",
    "dropout_rate = 0.3\n",
    "\n",
    "input = Input(shape=(max_sequence_length,))\n",
    "model = Embedding(\n",
    "    input_dim=n_words, output_dim=word_embedding_size, input_length=max_sequence_length\n",
    ")(input)\n",
    "model = Bidirectional(\n",
    "    LSTM(\n",
    "        units=lstm_units,\n",
    "        return_sequences=True,\n",
    "        dropout=dropout_rate,\n",
    "        recurrent_dropout=dropout_rate,\n",
    "        kernel_initializer=k.initializers.he_normal(),\n",
    "    )\n",
    ")(model)\n",
    "model = LSTM(\n",
    "    units=lstm_units * 2,\n",
    "    return_sequences=True,\n",
    "    dropout=dropout_rate,\n",
    "    recurrent_dropout=dropout_rate,\n",
    "    kernel_initializer=k.initializers.he_normal(),\n",
    ")(model)\n",
    "model = TimeDistributed(Dense(n_tags, activation=\"relu\"))(model)\n",
    "\n",
    "crf = CRF(n_tags)\n",
    "out = crf(model)"
   ]
  },
  {
   "cell_type": "code",
   "execution_count": 40,
   "metadata": {
    "_cell_guid": "82ffe0e4-30f4-49a7-902a-e1942ca59259",
    "_uuid": "d9ec4a0fd80b49f9bb28a25de022ec848113fa9a",
    "execution": {
     "iopub.execute_input": "2024-08-19T19:52:25.073151Z",
     "iopub.status.busy": "2024-08-19T19:52:25.072732Z",
     "iopub.status.idle": "2024-08-19T19:52:25.078734Z",
     "shell.execute_reply": "2024-08-19T19:52:25.077575Z",
     "shell.execute_reply.started": "2024-08-19T19:52:25.073066Z"
    }
   },
   "outputs": [],
   "source": [
    "model = Model(input, out)"
   ]
  },
  {
   "cell_type": "code",
   "execution_count": 41,
   "metadata": {
    "_cell_guid": "bf8e202b-f374-42c0-9a8f-146d595c8648",
    "_uuid": "93300d6dc8ac67eecd8f99f2ee82d2817daf5f96",
    "execution": {
     "iopub.execute_input": "2024-08-19T19:52:25.080787Z",
     "iopub.status.busy": "2024-08-19T19:52:25.080396Z",
     "iopub.status.idle": "2024-08-19T19:52:25.643174Z",
     "shell.execute_reply": "2024-08-19T19:52:25.642360Z",
     "shell.execute_reply.started": "2024-08-19T19:52:25.080717Z"
    }
   },
   "outputs": [
    {
     "name": "stdout",
     "output_type": "stream",
     "text": [
      "WARNING:tensorflow:From c:\\Users\\mfthr\\anaconda3\\envs\\BiLSTMCRF\\lib\\site-packages\\keras\\optimizers.py:790: The name tf.train.Optimizer is deprecated. Please use tf.compat.v1.train.Optimizer instead.\n",
      "\n",
      "WARNING:tensorflow:From c:\\Users\\mfthr\\anaconda3\\envs\\BiLSTMCRF\\lib\\site-packages\\tensorflow_core\\python\\ops\\math_ops.py:2509: where (from tensorflow.python.ops.array_ops) is deprecated and will be removed in a future version.\n",
      "Instructions for updating:\n",
      "Use tf.where in 2.0, which has the same broadcast rule as np.where\n"
     ]
    },
    {
     "name": "stderr",
     "output_type": "stream",
     "text": [
      "c:\\Users\\mfthr\\anaconda3\\envs\\BiLSTMCRF\\lib\\site-packages\\keras_contrib\\layers\\crf.py:346: UserWarning: CRF.loss_function is deprecated and it might be removed in the future. Please use losses.crf_loss instead.\n",
      "  warnings.warn('CRF.loss_function is deprecated '\n",
      "c:\\Users\\mfthr\\anaconda3\\envs\\BiLSTMCRF\\lib\\site-packages\\keras_contrib\\layers\\crf.py:353: UserWarning: CRF.accuracy is deprecated and it might be removed in the future. Please use metrics.crf_accuracy\n",
      "  warnings.warn('CRF.accuracy is deprecated and it '\n"
     ]
    }
   ],
   "source": [
    "adam = k.optimizers.Adam(lr=0.0005, beta_1=0.9, beta_2=0.999)\n",
    "#model.compile(optimizer=adam, loss=\"categorical_crossentropy\", metrics=[\"accuracy\"])\n",
    "model.compile(optimizer=adam, loss=crf.loss_function, metrics=[crf.accuracy, 'accuracy'])"
   ]
  },
  {
   "cell_type": "code",
   "execution_count": 42,
   "metadata": {
    "execution": {
     "iopub.execute_input": "2024-08-19T19:52:25.645512Z",
     "iopub.status.busy": "2024-08-19T19:52:25.644937Z",
     "iopub.status.idle": "2024-08-19T19:52:25.655821Z",
     "shell.execute_reply": "2024-08-19T19:52:25.654694Z",
     "shell.execute_reply.started": "2024-08-19T19:52:25.645421Z"
    }
   },
   "outputs": [
    {
     "name": "stdout",
     "output_type": "stream",
     "text": [
      "_________________________________________________________________\n",
      "Layer (type)                 Output Shape              Param #   \n",
      "=================================================================\n",
      "input_1 (InputLayer)         (None, 249)               0         \n",
      "_________________________________________________________________\n",
      "embedding_1 (Embedding)      (None, 249, 100)          1651300   \n",
      "_________________________________________________________________\n",
      "bidirectional_1 (Bidirection (None, 249, 128)          84480     \n",
      "_________________________________________________________________\n",
      "lstm_2 (LSTM)                (None, 249, 128)          131584    \n",
      "_________________________________________________________________\n",
      "time_distributed_1 (TimeDist (None, 249, 5)            645       \n",
      "_________________________________________________________________\n",
      "crf_1 (CRF)                  (None, 249, 5)            65        \n",
      "=================================================================\n",
      "Total params: 1,868,074\n",
      "Trainable params: 1,868,074\n",
      "Non-trainable params: 0\n",
      "_________________________________________________________________\n"
     ]
    }
   ],
   "source": [
    "model.summary()"
   ]
  },
  {
   "cell_type": "markdown",
   "metadata": {},
   "source": [
    "## Save the model after each epoch if validation is better"
   ]
  },
  {
   "cell_type": "code",
   "execution_count": 43,
   "metadata": {
    "execution": {
     "iopub.execute_input": "2024-08-19T19:52:25.657685Z",
     "iopub.status.busy": "2024-08-19T19:52:25.657326Z",
     "iopub.status.idle": "2024-08-19T19:52:25.668444Z",
     "shell.execute_reply": "2024-08-19T19:52:25.667284Z",
     "shell.execute_reply.started": "2024-08-19T19:52:25.657630Z"
    }
   },
   "outputs": [],
   "source": [
    "# Saving the best only\n",
    "filepath = \"output 2/ner-bi-lstm-td-model-{epoch:02d}-{val_acc:.2f}.hdf5\"\n",
    "checkpoint = ModelCheckpoint(\n",
    "    filepath, monitor=\"val_acc\", verbose=1, save_best_only=True, mode=\"max\"\n",
    ")\n",
    "\n",
    "# Early Stopping\n",
    "early_stopping = EarlyStopping(\n",
    "    monitor=\"val_acc\",  # Bisa juga menggunakan 'val_acc'\n",
    "    patience=5,  # Berhenti jika tidak ada peningkatan selama 5 epoch\n",
    "    restore_best_weights=True,  # Mengembalikan bobot terbaik ketika berhenti\n",
    "    verbose=1,\n",
    ")\n",
    "\n",
    "# # Gabungkan kedua callback\n",
    "# callbacks_list = [checkpoint, early_stopping]\n",
    "\n",
    "callbacks_list = [checkpoint]"
   ]
  },
  {
   "cell_type": "markdown",
   "metadata": {},
   "source": [
    "## Fit"
   ]
  },
  {
   "cell_type": "code",
   "execution_count": 44,
   "metadata": {
    "execution": {
     "iopub.execute_input": "2024-08-19T19:52:25.670308Z",
     "iopub.status.busy": "2024-08-19T19:52:25.669955Z",
     "iopub.status.idle": "2024-08-19T19:52:25.680885Z",
     "shell.execute_reply": "2024-08-19T19:52:25.679989Z",
     "shell.execute_reply.started": "2024-08-19T19:52:25.670233Z"
    }
   },
   "outputs": [
    {
     "name": "stdout",
     "output_type": "stream",
     "text": [
      "(862, 249)\n"
     ]
    }
   ],
   "source": [
    "print(X_train.shape)"
   ]
  },
  {
   "cell_type": "code",
   "execution_count": 45,
   "metadata": {
    "_cell_guid": "5df5d6eb-2285-4a57-b5a0-d0bcbf79c483",
    "_uuid": "93e241a9304d00294cb0f675f1e42b5dbb6a1c07",
    "execution": {
     "iopub.execute_input": "2024-08-19T19:52:25.682546Z",
     "iopub.status.busy": "2024-08-19T19:52:25.682272Z",
     "iopub.status.idle": "2024-08-19T19:55:23.604523Z",
     "shell.execute_reply": "2024-08-19T19:55:23.603438Z",
     "shell.execute_reply.started": "2024-08-19T19:52:25.682494Z"
    },
    "scrolled": true
   },
   "outputs": [
    {
     "name": "stdout",
     "output_type": "stream",
     "text": [
      "WARNING:tensorflow:From c:\\Users\\mfthr\\anaconda3\\envs\\BiLSTMCRF\\lib\\site-packages\\keras\\backend\\tensorflow_backend.py:986: The name tf.assign_add is deprecated. Please use tf.compat.v1.assign_add instead.\n",
      "\n",
      "WARNING:tensorflow:From c:\\Users\\mfthr\\anaconda3\\envs\\BiLSTMCRF\\lib\\site-packages\\keras\\backend\\tensorflow_backend.py:973: The name tf.assign is deprecated. Please use tf.compat.v1.assign instead.\n",
      "\n",
      "WARNING:tensorflow:From c:\\Users\\mfthr\\anaconda3\\envs\\BiLSTMCRF\\lib\\site-packages\\keras\\backend\\tensorflow_backend.py:2741: The name tf.Session is deprecated. Please use tf.compat.v1.Session instead.\n",
      "\n",
      "Train on 689 samples, validate on 173 samples\n",
      "Epoch 1/20\n",
      "WARNING:tensorflow:From c:\\Users\\mfthr\\anaconda3\\envs\\BiLSTMCRF\\lib\\site-packages\\keras\\backend\\tensorflow_backend.py:174: The name tf.get_default_session is deprecated. Please use tf.compat.v1.get_default_session instead.\n",
      "\n",
      "WARNING:tensorflow:From c:\\Users\\mfthr\\anaconda3\\envs\\BiLSTMCRF\\lib\\site-packages\\keras\\backend\\tensorflow_backend.py:181: The name tf.ConfigProto is deprecated. Please use tf.compat.v1.ConfigProto instead.\n",
      "\n",
      "WARNING:tensorflow:From c:\\Users\\mfthr\\anaconda3\\envs\\BiLSTMCRF\\lib\\site-packages\\keras\\backend\\tensorflow_backend.py:190: The name tf.global_variables is deprecated. Please use tf.compat.v1.global_variables instead.\n",
      "\n",
      "WARNING:tensorflow:From c:\\Users\\mfthr\\anaconda3\\envs\\BiLSTMCRF\\lib\\site-packages\\keras\\backend\\tensorflow_backend.py:199: The name tf.is_variable_initialized is deprecated. Please use tf.compat.v1.is_variable_initialized instead.\n",
      "\n",
      "WARNING:tensorflow:From c:\\Users\\mfthr\\anaconda3\\envs\\BiLSTMCRF\\lib\\site-packages\\keras\\backend\\tensorflow_backend.py:206: The name tf.variables_initializer is deprecated. Please use tf.compat.v1.variables_initializer instead.\n",
      "\n",
      "689/689 [==============================] - 23s 33ms/step - loss: 0.7915 - crf_viterbi_accuracy: 0.6060 - acc: 0.0109 - val_loss: 0.2457 - val_crf_viterbi_accuracy: 0.9573 - val_acc: 0.9573\n",
      "\n",
      "Epoch 00001: val_acc improved from -inf to 0.95726, saving model to output 2/ner-bi-lstm-td-model-01-0.96.hdf5\n",
      "Epoch 2/20\n",
      "689/689 [==============================] - 21s 30ms/step - loss: 0.2153 - crf_viterbi_accuracy: 0.9609 - acc: 0.0109 - val_loss: 0.2289 - val_crf_viterbi_accuracy: 0.9573 - val_acc: 0.9573\n",
      "\n",
      "Epoch 00002: val_acc did not improve from 0.95726\n",
      "Epoch 3/20\n",
      "689/689 [==============================] - 22s 32ms/step - loss: 0.2038 - crf_viterbi_accuracy: 0.9610 - acc: 0.0109 - val_loss: 0.2082 - val_crf_viterbi_accuracy: 0.9573 - val_acc: 0.9573\n",
      "\n",
      "Epoch 00003: val_acc did not improve from 0.95726\n",
      "Epoch 4/20\n",
      "689/689 [==============================] - 22s 32ms/step - loss: 0.1896 - crf_viterbi_accuracy: 0.9611 - acc: 0.0109 - val_loss: 0.1917 - val_crf_viterbi_accuracy: 0.9573 - val_acc: 0.9573\n",
      "\n",
      "Epoch 00004: val_acc did not improve from 0.95726\n",
      "Epoch 5/20\n",
      "689/689 [==============================] - 22s 32ms/step - loss: 0.1708 - crf_viterbi_accuracy: 0.9611 - acc: 0.0109 - val_loss: 0.1713 - val_crf_viterbi_accuracy: 0.9574 - val_acc: 0.9574\n",
      "\n",
      "Epoch 00005: val_acc improved from 0.95726 to 0.95745, saving model to output 2/ner-bi-lstm-td-model-05-0.96.hdf5\n",
      "Epoch 6/20\n",
      "689/689 [==============================] - 23s 33ms/step - loss: 0.1484 - crf_viterbi_accuracy: 0.9629 - acc: 0.0109 - val_loss: 0.1471 - val_crf_viterbi_accuracy: 0.9609 - val_acc: 0.9609\n",
      "\n",
      "Epoch 00006: val_acc improved from 0.95745 to 0.96093, saving model to output 2/ner-bi-lstm-td-model-06-0.96.hdf5\n",
      "Epoch 7/20\n",
      "689/689 [==============================] - 23s 33ms/step - loss: 0.1290 - crf_viterbi_accuracy: 0.9657 - acc: 0.0109 - val_loss: 0.1306 - val_crf_viterbi_accuracy: 0.9653 - val_acc: 0.9653\n",
      "\n",
      "Epoch 00007: val_acc improved from 0.96093 to 0.96529, saving model to output 2/ner-bi-lstm-td-model-07-0.97.hdf5\n",
      "Epoch 8/20\n",
      "689/689 [==============================] - 22s 32ms/step - loss: 0.1142 - crf_viterbi_accuracy: 0.9685 - acc: 0.0109 - val_loss: 0.1184 - val_crf_viterbi_accuracy: 0.9674 - val_acc: 0.9674\n",
      "\n",
      "Epoch 00008: val_acc improved from 0.96529 to 0.96738, saving model to output 2/ner-bi-lstm-td-model-08-0.97.hdf5\n",
      "Epoch 9/20\n",
      "689/689 [==============================] - 23s 34ms/step - loss: 0.1009 - crf_viterbi_accuracy: 0.9705 - acc: 0.0109 - val_loss: 0.1035 - val_crf_viterbi_accuracy: 0.9690 - val_acc: 0.9690\n",
      "\n",
      "Epoch 00009: val_acc improved from 0.96738 to 0.96899, saving model to output 2/ner-bi-lstm-td-model-09-0.97.hdf5\n",
      "Epoch 10/20\n",
      "689/689 [==============================] - 23s 33ms/step - loss: 0.0856 - crf_viterbi_accuracy: 0.9719 - acc: 0.0109 - val_loss: 0.0891 - val_crf_viterbi_accuracy: 0.9694 - val_acc: 0.9694\n",
      "\n",
      "Epoch 00010: val_acc improved from 0.96899 to 0.96943, saving model to output 2/ner-bi-lstm-td-model-10-0.97.hdf5\n",
      "Epoch 11/20\n",
      "689/689 [==============================] - 23s 33ms/step - loss: 0.0665 - crf_viterbi_accuracy: 0.9755 - acc: 0.0109 - val_loss: 0.0650 - val_crf_viterbi_accuracy: 0.9793 - val_acc: 0.9793\n",
      "\n",
      "Epoch 00011: val_acc improved from 0.96943 to 0.97934, saving model to output 2/ner-bi-lstm-td-model-11-0.98.hdf5\n",
      "Epoch 12/20\n",
      "689/689 [==============================] - 23s 33ms/step - loss: 0.0450 - crf_viterbi_accuracy: 0.9851 - acc: 0.0109 - val_loss: 0.0527 - val_crf_viterbi_accuracy: 0.9858 - val_acc: 0.9858\n",
      "\n",
      "Epoch 00012: val_acc improved from 0.97934 to 0.98582, saving model to output 2/ner-bi-lstm-td-model-12-0.99.hdf5\n",
      "Epoch 13/20\n",
      "689/689 [==============================] - 23s 34ms/step - loss: 0.0324 - crf_viterbi_accuracy: 0.9903 - acc: 0.0109 - val_loss: 0.0476 - val_crf_viterbi_accuracy: 0.9881 - val_acc: 0.9881\n",
      "\n",
      "Epoch 00013: val_acc improved from 0.98582 to 0.98807, saving model to output 2/ner-bi-lstm-td-model-13-0.99.hdf5\n",
      "Epoch 14/20\n",
      "689/689 [==============================] - 23s 33ms/step - loss: 0.0260 - crf_viterbi_accuracy: 0.9928 - acc: 0.0109 - val_loss: 0.0470 - val_crf_viterbi_accuracy: 0.9885 - val_acc: 0.9885\n",
      "\n",
      "Epoch 00014: val_acc improved from 0.98807 to 0.98851, saving model to output 2/ner-bi-lstm-td-model-14-0.99.hdf5\n",
      "Epoch 15/20\n",
      "689/689 [==============================] - 23s 33ms/step - loss: 0.0223 - crf_viterbi_accuracy: 0.9937 - acc: 0.0109 - val_loss: 0.0438 - val_crf_viterbi_accuracy: 0.9888 - val_acc: 0.9888\n",
      "\n",
      "Epoch 00015: val_acc improved from 0.98851 to 0.98883, saving model to output 2/ner-bi-lstm-td-model-15-0.99.hdf5\n",
      "Epoch 16/20\n",
      "689/689 [==============================] - 26s 37ms/step - loss: 0.0197 - crf_viterbi_accuracy: 0.9945 - acc: 0.0109 - val_loss: 0.0465 - val_crf_viterbi_accuracy: 0.9886 - val_acc: 0.9886\n",
      "\n",
      "Epoch 00016: val_acc did not improve from 0.98883\n",
      "Epoch 17/20\n",
      "689/689 [==============================] - 31s 45ms/step - loss: 0.0175 - crf_viterbi_accuracy: 0.9952 - acc: 0.0109 - val_loss: 0.0468 - val_crf_viterbi_accuracy: 0.9889 - val_acc: 0.9889\n",
      "\n",
      "Epoch 00017: val_acc improved from 0.98883 to 0.98888, saving model to output 2/ner-bi-lstm-td-model-17-0.99.hdf5\n",
      "Epoch 18/20\n",
      "689/689 [==============================] - 34s 49ms/step - loss: 0.0157 - crf_viterbi_accuracy: 0.9958 - acc: 0.0109 - val_loss: 0.0456 - val_crf_viterbi_accuracy: 0.9887 - val_acc: 0.9887\n",
      "\n",
      "Epoch 00018: val_acc did not improve from 0.98888\n",
      "Epoch 19/20\n",
      "689/689 [==============================] - 29s 42ms/step - loss: 0.0147 - crf_viterbi_accuracy: 0.9960 - acc: 0.0109 - val_loss: 0.0456 - val_crf_viterbi_accuracy: 0.9890 - val_acc: 0.9890\n",
      "\n",
      "Epoch 00019: val_acc improved from 0.98888 to 0.98895, saving model to output 2/ner-bi-lstm-td-model-19-0.99.hdf5\n",
      "Epoch 20/20\n",
      "689/689 [==============================] - 29s 43ms/step - loss: 0.0135 - crf_viterbi_accuracy: 0.9963 - acc: 0.0109 - val_loss: 0.0481 - val_crf_viterbi_accuracy: 0.9886 - val_acc: 0.9886\n",
      "\n",
      "Epoch 00020: val_acc did not improve from 0.98895\n"
     ]
    }
   ],
   "source": [
    "history = model.fit(X_train, np.array(y_train), batch_size=16, epochs=20, validation_split=0.2, verbose=1, callbacks=callbacks_list)"
   ]
  },
  {
   "cell_type": "markdown",
   "metadata": {},
   "source": [
    "# Accuracy"
   ]
  },
  {
   "cell_type": "markdown",
   "metadata": {},
   "source": [
    "## Single prediction and verbose results"
   ]
  },
  {
   "cell_type": "code",
   "execution_count": 46,
   "metadata": {
    "_uuid": "139269e019aaac2da260b0ee5a676a4c618f6673",
    "execution": {
     "iopub.execute_input": "2024-08-19T19:55:23.617878Z",
     "iopub.status.busy": "2024-08-19T19:55:23.617552Z",
     "iopub.status.idle": "2024-08-19T19:55:24.349849Z",
     "shell.execute_reply": "2024-08-19T19:55:24.348946Z",
     "shell.execute_reply.started": "2024-08-19T19:55:23.617812Z"
    }
   },
   "outputs": [
    {
     "name": "stdout",
     "output_type": "stream",
     "text": [
      "[3 3 3 3 3 3 3 3 3 3 2 4 3 3 3 3 3 3 3 3 3 3 3 3 3 3 3 3 3 3 3 3 3 3 3 3 3\n",
      " 3 3 3 3 3 3 3 3 3 3 3 3 3 2 4 3 3 3 3 3 3 3 3 3 3 3 3 3 3 3 3 3 2 4 3 3 3\n",
      " 3 3 3 3 3 3 3 3 3 3 3 3 3 3 3 3 3 3 3 2 4 3 3 3 3 3 3 3 3 3 3 3 3 3 3 3 3\n",
      " 3 3 3 3 3 3 3 3 3 3 3 3 3 3 3 3 3 3 3 3 3 3 3 3 3 3 3 3 3 3 3 3 3 3 3 3 3\n",
      " 3 3 3 3 3 3 3 2 4 3 3 3 3 3 3 3 3 3 3 3 3 3 3 3 3 3 3 3 3 3 3 3 3 3 3 3 3\n",
      " 3 3 3 3 3 3 3 3 3 3 3 3 3 3 3 3 3 3 3 3 3 3 3 3 3 3 3 3 3 3 3 3 3 3 3 3 3\n",
      " 3 3 3 3 3 3 3 3 3 3 3 3 3 3 3 3 3 3 3 3 3 3 3 3 3 3 3]\n",
      "Word          : (True      ): Pred\n",
      "ABSTRAK       : (O         ): O\n",
      "Telah         : (O         ): O\n",
      "tentang       : (O         ): O\n",
      "efek          : (O         ): O\n",
      "kelapa        : (O         ): O\n",
      "penarikan     : (O         ): O\n",
      "agar          : (O         ): O\n",
      "proses        : (O         ): O\n",
      "pengolahan    : (O         ): O\n",
      "pascapanen    : (O         ): O\n",
      "Gracilaria    : (B-RUMPUT LAUT): B-RUMPUT LAUT\n",
      "gigas         : (I-RUMPUT LAUT): I-RUMPUT LAUT\n",
      "Harv.         : (O         ): O\n",
      "Tujuan        : (O         ): O\n",
      "mengetahui    : (O         ): O\n",
      "efek          : (O         ): O\n",
      "penambahan    : (O         ): O\n",
      "kelapa        : (O         ): O\n",
      "proses        : (O         ): O\n",
      "pengolahan    : (O         ): O\n",
      "pascapanen    : (O         ): O\n",
      "rendemen      : (O         ): O\n",
      "agar-agar     : (O         ): O\n",
      "Dalam         : (O         ): O\n",
      "ekstraksi     : (O         ): O\n",
      "perebusan     : (O         ): O\n",
      "Orosco        : (O         ): O\n",
      "modifikasi    : (O         ): O\n",
      "cairan        : (O         ): O\n",
      "penyari       : (O         ): O\n",
      "kombinasi     : (O         ): O\n",
      "kelapa        : (O         ): O\n",
      "Data          : (O         ): O\n",
      "diperoleh     : (O         ): O\n",
      "dianalisis    : (O         ): O\n",
      "Regresi       : (O         ): O\n",
      "Linear        : (O         ): O\n",
      "Anava         : (O         ): O\n",
      "arah          : (O         ): O\n",
      "taraf         : (O         ): O\n",
      "kepercayaan   : (O         ): O\n",
      "95            : (O         ): O\n",
      "menunjukan    : (O         ): O\n",
      "kelapa        : (O         ): O\n",
      "meningkatkan  : (O         ): O\n",
      "rendemen      : (O         ): O\n",
      "agar-agar     : (O         ): O\n",
      "Kata          : (O         ): O\n",
      "kunci         : (O         ): O\n",
      "Rumput        : (O         ): O\n",
      "Gracilaria    : (B-RUMPUT LAUT): B-RUMPUT LAUT\n",
      "gigas         : (I-RUMPUT LAUT): I-RUMPUT LAUT\n",
      "Harv          : (O         ): O\n",
      "kelapa        : (O         ): O\n",
      "rendemen      : (O         ): O\n",
      "agar-agar     : (O         ): O\n",
      "ABSTRACT      : (O         ): O\n",
      "CHRISTYANA    : (O         ): O\n",
      "ANGGRAENI     : (O         ): O\n",
      "effect        : (O         ): O\n",
      "Coconut       : (O         ): O\n",
      "Water         : (O         ): O\n",
      "on            : (O         ): O\n",
      "Agar          : (O         ): O\n",
      "Extractions   : (O         ): O\n",
      "on            : (O         ): O\n",
      "Seaweed       : (O         ): O\n",
      "Post-harvest  : (O         ): O\n",
      "Processing    : (O         ): O\n",
      "Gracilaria    : (B-RUMPUT LAUT): O\n",
      "gigas         : (I-RUMPUT LAUT): O\n",
      "Harv          : (O         ): O\n",
      "Under         : (O         ): O\n",
      "direction     : (O         ): O\n",
      "TJIPTASURASA  : (O         ): O\n",
      "DWI           : (O         ): O\n",
      "HARTANTI      : (O         ): O\n",
      "It            : (O         ): O\n",
      "had           : (O         ): O\n",
      "been          : (O         ): O\n",
      "conducted     : (O         ): O\n",
      "a             : (O         ): O\n",
      "study         : (O         ): O\n",
      "on            : (O         ): O\n",
      "effect        : (O         ): O\n",
      "coconut       : (O         ): O\n",
      "water         : (O         ): O\n",
      "on            : (O         ): O\n",
      "agar          : (O         ): O\n",
      "extraction    : (O         ): O\n",
      "on            : (O         ): O\n",
      "post-harvest  : (O         ): O\n",
      "processing    : (O         ): O\n",
      "Gracilaria    : (B-RUMPUT LAUT): B-RUMPUT LAUT\n",
      "gigas         : (I-RUMPUT LAUT): I-RUMPUT LAUT\n",
      "Harv.         : (O         ): O\n",
      "purpose       : (O         ): O\n",
      "this          : (O         ): O\n",
      "research      : (O         ): O\n",
      "know          : (O         ): O\n",
      "effect        : (O         ): O\n",
      "addition      : (O         ): O\n",
      "coconut       : (O         ): O\n",
      "water         : (O         ): O\n",
      "on            : (O         ): O\n",
      "post-harvest  : (O         ): O\n",
      "processing    : (O         ): O\n",
      "on            : (O         ): O\n",
      "agar          : (O         ): O\n",
      "rendement     : (O         ): O\n",
      "In            : (O         ): O\n",
      "this          : (O         ): O\n",
      "research      : (O         ): O\n",
      "extractions   : (O         ): O\n",
      "done          : (O         ): O\n",
      "by            : (O         ): O\n",
      "boiling       : (O         ): O\n",
      "methods       : (O         ): O\n",
      "Orosco        : (O         ): O\n",
      "methods       : (O         ): O\n",
      "with          : (O         ): O\n",
      "modified      : (O         ): O\n",
      "solvent       : (O         ): O\n",
      "using         : (O         ): O\n",
      "combination   : (O         ): O\n",
      "coconut       : (O         ): O\n",
      "water         : (O         ): O\n",
      "water         : (O         ): O\n",
      "Obtained      : (O         ): O\n",
      "data          : (O         ): O\n",
      "analyzed      : (O         ): O\n",
      "by            : (O         ): O\n",
      "Linear        : (O         ): O\n",
      "Regretion     : (O         ): O\n",
      "One           : (O         ): O\n",
      "way           : (O         ): O\n",
      "Anova         : (O         ): O\n",
      "with          : (O         ): O\n",
      "95            : (O         ): O\n",
      "significance  : (O         ): O\n",
      "level         : (O         ): O\n",
      "result        : (O         ): O\n",
      "this          : (O         ): O\n",
      "research      : (O         ): O\n",
      "showed        : (O         ): O\n",
      "that          : (O         ): O\n",
      "coconut       : (O         ): O\n",
      "water         : (O         ): O\n",
      "able          : (O         ): O\n",
      "increase      : (O         ): O\n",
      "agar          : (O         ): O\n",
      "rendement     : (O         ): O\n",
      "Key           : (O         ): O\n",
      "words         : (O         ): O\n",
      "Seaweed       : (O         ): O\n",
      "Gracilaria    : (B-RUMPUT LAUT): B-RUMPUT LAUT\n",
      "gigas         : (I-RUMPUT LAUT): I-RUMPUT LAUT\n",
      "Harv          : (O         ): O\n",
      "coconut       : (O         ): O\n",
      "water         : (O         ): O\n",
      "agar          : (O         ): O\n",
      "rendement     : (O         ): O\n",
      "ENDPAD        : (O         ): O\n",
      "ENDPAD        : (O         ): O\n",
      "ENDPAD        : (O         ): O\n",
      "ENDPAD        : (O         ): O\n",
      "ENDPAD        : (O         ): O\n",
      "ENDPAD        : (O         ): O\n",
      "ENDPAD        : (O         ): O\n",
      "ENDPAD        : (O         ): O\n",
      "ENDPAD        : (O         ): O\n",
      "ENDPAD        : (O         ): O\n",
      "ENDPAD        : (O         ): O\n",
      "ENDPAD        : (O         ): O\n",
      "ENDPAD        : (O         ): O\n",
      "ENDPAD        : (O         ): O\n",
      "ENDPAD        : (O         ): O\n",
      "ENDPAD        : (O         ): O\n",
      "ENDPAD        : (O         ): O\n",
      "ENDPAD        : (O         ): O\n",
      "ENDPAD        : (O         ): O\n",
      "ENDPAD        : (O         ): O\n",
      "ENDPAD        : (O         ): O\n",
      "ENDPAD        : (O         ): O\n",
      "ENDPAD        : (O         ): O\n",
      "ENDPAD        : (O         ): O\n",
      "ENDPAD        : (O         ): O\n",
      "ENDPAD        : (O         ): O\n",
      "ENDPAD        : (O         ): O\n",
      "ENDPAD        : (O         ): O\n",
      "ENDPAD        : (O         ): O\n",
      "ENDPAD        : (O         ): O\n",
      "ENDPAD        : (O         ): O\n",
      "ENDPAD        : (O         ): O\n",
      "ENDPAD        : (O         ): O\n",
      "ENDPAD        : (O         ): O\n",
      "ENDPAD        : (O         ): O\n",
      "ENDPAD        : (O         ): O\n",
      "ENDPAD        : (O         ): O\n",
      "ENDPAD        : (O         ): O\n",
      "ENDPAD        : (O         ): O\n",
      "ENDPAD        : (O         ): O\n",
      "ENDPAD        : (O         ): O\n",
      "ENDPAD        : (O         ): O\n",
      "ENDPAD        : (O         ): O\n",
      "ENDPAD        : (O         ): O\n",
      "ENDPAD        : (O         ): O\n",
      "ENDPAD        : (O         ): O\n",
      "ENDPAD        : (O         ): O\n",
      "ENDPAD        : (O         ): O\n",
      "ENDPAD        : (O         ): O\n",
      "ENDPAD        : (O         ): O\n",
      "ENDPAD        : (O         ): O\n",
      "ENDPAD        : (O         ): O\n",
      "ENDPAD        : (O         ): O\n",
      "ENDPAD        : (O         ): O\n",
      "ENDPAD        : (O         ): O\n",
      "ENDPAD        : (O         ): O\n",
      "ENDPAD        : (O         ): O\n",
      "ENDPAD        : (O         ): O\n",
      "ENDPAD        : (O         ): O\n",
      "ENDPAD        : (O         ): O\n",
      "ENDPAD        : (O         ): O\n",
      "ENDPAD        : (O         ): O\n",
      "ENDPAD        : (O         ): O\n",
      "ENDPAD        : (O         ): O\n",
      "ENDPAD        : (O         ): O\n",
      "ENDPAD        : (O         ): O\n",
      "ENDPAD        : (O         ): O\n",
      "ENDPAD        : (O         ): O\n",
      "ENDPAD        : (O         ): O\n",
      "ENDPAD        : (O         ): O\n",
      "ENDPAD        : (O         ): O\n",
      "ENDPAD        : (O         ): O\n",
      "ENDPAD        : (O         ): O\n",
      "ENDPAD        : (O         ): O\n",
      "ENDPAD        : (O         ): O\n",
      "ENDPAD        : (O         ): O\n",
      "ENDPAD        : (O         ): O\n",
      "ENDPAD        : (O         ): O\n",
      "ENDPAD        : (O         ): O\n",
      "ENDPAD        : (O         ): O\n",
      "ENDPAD        : (O         ): O\n",
      "ENDPAD        : (O         ): O\n",
      "ENDPAD        : (O         ): O\n",
      "ENDPAD        : (O         ): O\n",
      "ENDPAD        : (O         ): O\n",
      "ENDPAD        : (O         ): O\n",
      "ENDPAD        : (O         ): O\n"
     ]
    }
   ],
   "source": [
    "i = 55\n",
    "p = model.predict(np.array([X_test[i]]))\n",
    "p = np.argmax(p, axis=-1)\n",
    "gt = np.argmax(y_test[i], axis=-1)\n",
    "print(gt)\n",
    "print(\"{:14}: ({:10}): {}\".format(\"Word\", \"True\", \"Pred\"))\n",
    "for idx, (w,pred) in enumerate(zip(X_test[i],p[0])):\n",
    "    #\n",
    "    print(\"{:14}: ({:10}): {}\".format(words[w],idx2tag[gt[idx]],tags[pred]))"
   ]
  },
  {
   "cell_type": "markdown",
   "metadata": {},
   "source": [
    "## Random Predict"
   ]
  },
  {
   "cell_type": "code",
   "execution_count": 47,
   "metadata": {
    "execution": {
     "iopub.execute_input": "2024-08-19T20:06:20.699558Z",
     "iopub.status.busy": "2024-08-19T20:06:20.699157Z",
     "iopub.status.idle": "2024-08-19T20:06:20.706717Z",
     "shell.execute_reply": "2024-08-19T20:06:20.705567Z",
     "shell.execute_reply.started": "2024-08-19T20:06:20.699503Z"
    }
   },
   "outputs": [],
   "source": [
    "def preprocess_input_text(input_text, word2idx, maxlen):\n",
    "    # Split the input text into words (assumes space-separated words)\n",
    "    words = input_text.split()\n",
    "\n",
    "    # Convert words to their corresponding indices\n",
    "    X_input = [word2idx.get(w, word2idx[\"ENDPAD\"]) for w in words]  # Use ENDPAD for unknown words\n",
    "\n",
    "    # Pad the sequence to the required maxlen\n",
    "    X_input_padded = pad_sequences([X_input], maxlen=maxlen, padding=\"post\", value=word2idx[\"ENDPAD\"])\n",
    "\n",
    "    return X_input_padded, words\n"
   ]
  },
  {
   "cell_type": "code",
   "execution_count": 48,
   "metadata": {
    "execution": {
     "iopub.execute_input": "2024-08-19T20:06:29.029616Z",
     "iopub.status.busy": "2024-08-19T20:06:29.029211Z",
     "iopub.status.idle": "2024-08-19T20:06:29.036734Z",
     "shell.execute_reply": "2024-08-19T20:06:29.035430Z",
     "shell.execute_reply.started": "2024-08-19T20:06:29.029548Z"
    }
   },
   "outputs": [],
   "source": [
    "def predict_entities(input_text, model, word2idx, idx2tag, maxlen):\n",
    "    # Preprocess the input text\n",
    "    X_input_padded, words = preprocess_input_text(input_text, word2idx, maxlen)\n",
    "    \n",
    "    # Predict using the model\n",
    "    pred = model.predict(X_input_padded)\n",
    "    \n",
    "    # Get the predicted tags (indices) and convert them to actual tags\n",
    "    pred_tags = [idx2tag[np.argmax(tag)] for tag in pred[0]]\n",
    "    \n",
    "    return list(zip(words, pred_tags))\n"
   ]
  },
  {
   "cell_type": "code",
   "execution_count": 49,
   "metadata": {
    "execution": {
     "iopub.execute_input": "2024-08-19T20:08:28.166639Z",
     "iopub.status.busy": "2024-08-19T20:08:28.166246Z",
     "iopub.status.idle": "2024-08-19T20:08:28.215262Z",
     "shell.execute_reply": "2024-08-19T20:08:28.214155Z",
     "shell.execute_reply.started": "2024-08-19T20:08:28.166582Z"
    }
   },
   "outputs": [
    {
     "name": "stdout",
     "output_type": "stream",
     "text": [
      "Eucheuma: B-RUMPUT LAUT\n",
      "cottoni: I-RUMPUT LAUT\n",
      "di: O\n",
      "Kabupaten: B-LOKASI\n",
      "Brebes: I-LOKASI\n",
      "Provinsi: B-LOKASI\n",
      "Jawa: I-LOKASI\n",
      "Tengah.: O\n"
     ]
    }
   ],
   "source": [
    "# Input text\n",
    "input_text = \"Eucheuma cottoni di Kabupaten Brebes Provinsi Jawa Tengah.\"\n",
    "\n",
    "\n",
    "# Predict the entities in the input text\n",
    "predicted_entities = predict_entities(input_text, model, word2idx, idx2tag, maxlen)\n",
    "\n",
    "# Print the results\n",
    "for word, tag in predicted_entities:\n",
    "    print(f\"{word}: {tag}\")\n"
   ]
  },
  {
   "cell_type": "markdown",
   "metadata": {},
   "source": [
    "## Predict everything at once"
   ]
  },
  {
   "cell_type": "code",
   "execution_count": 50,
   "metadata": {
    "execution": {
     "iopub.execute_input": "2024-08-19T19:55:24.351608Z",
     "iopub.status.busy": "2024-08-19T19:55:24.351297Z",
     "iopub.status.idle": "2024-08-19T19:55:26.211551Z",
     "shell.execute_reply": "2024-08-19T19:55:26.210663Z",
     "shell.execute_reply.started": "2024-08-19T19:55:24.351554Z"
    }
   },
   "outputs": [],
   "source": [
    "p = model.predict(np.array(X_test))  "
   ]
  },
  {
   "cell_type": "code",
   "execution_count": 51,
   "metadata": {
    "execution": {
     "iopub.execute_input": "2024-08-19T19:55:26.212820Z",
     "iopub.status.busy": "2024-08-19T19:55:26.212572Z",
     "iopub.status.idle": "2024-08-19T19:55:26.218672Z",
     "shell.execute_reply": "2024-08-19T19:55:26.217705Z",
     "shell.execute_reply.started": "2024-08-19T19:55:26.212784Z"
    }
   },
   "outputs": [
    {
     "data": {
      "text/plain": [
       "(216, 249, 5)"
      ]
     },
     "execution_count": 51,
     "metadata": {},
     "output_type": "execute_result"
    }
   ],
   "source": [
    "p.shape"
   ]
  },
  {
   "cell_type": "markdown",
   "metadata": {},
   "source": [
    "## Sklearn Classification Report"
   ]
  },
  {
   "cell_type": "code",
   "execution_count": 52,
   "metadata": {
    "execution": {
     "iopub.execute_input": "2024-08-19T19:55:26.220906Z",
     "iopub.status.busy": "2024-08-19T19:55:26.220538Z",
     "iopub.status.idle": "2024-08-19T19:55:26.229501Z",
     "shell.execute_reply": "2024-08-19T19:55:26.228580Z",
     "shell.execute_reply.started": "2024-08-19T19:55:26.220840Z"
    }
   },
   "outputs": [],
   "source": [
    "from sklearn.metrics import classification_report"
   ]
  },
  {
   "cell_type": "code",
   "execution_count": 53,
   "metadata": {
    "execution": {
     "iopub.execute_input": "2024-08-19T19:55:26.231093Z",
     "iopub.status.busy": "2024-08-19T19:55:26.230805Z",
     "iopub.status.idle": "2024-08-19T19:55:26.243865Z",
     "shell.execute_reply": "2024-08-19T19:55:26.242912Z",
     "shell.execute_reply.started": "2024-08-19T19:55:26.231041Z"
    }
   },
   "outputs": [
    {
     "data": {
      "text/plain": [
       "array([3, 3, 3, 3, 3, 3, 3, 3, 3, 3, 3, 3, 3, 3, 3, 3, 3, 3, 3, 3, 3, 3,\n",
       "       3, 3, 3, 3, 3, 3, 3, 3, 3, 3, 3, 3, 2, 3, 3, 3, 3, 3, 3, 3, 3, 3,\n",
       "       3, 3, 3, 2, 3, 3, 3, 3, 3, 3, 3, 3, 3, 3, 4, 3, 3, 3, 3, 3, 3, 3,\n",
       "       3, 3, 3, 3, 3, 3, 3, 3, 3, 3, 3, 3, 3, 3, 3, 3, 3, 3, 3, 3, 3, 3,\n",
       "       3, 2, 4, 3, 3, 3, 3, 3, 3, 3, 3, 3, 3, 3, 3, 3, 3, 3, 3, 3, 3, 3,\n",
       "       3, 3, 3, 3, 3, 3, 3, 3, 3, 3, 3, 3, 3, 3, 3, 3, 3, 3, 3, 3, 3, 3,\n",
       "       3, 3, 3, 3, 3, 3, 3, 3, 3, 3, 3, 3, 3, 3, 3, 3, 3, 3, 3, 3, 3, 3,\n",
       "       3, 3, 3, 3, 3, 3, 3, 3, 3, 3, 3, 3, 3, 3, 3, 3, 3, 3, 3, 3, 3, 3,\n",
       "       3, 3, 3, 3, 3, 3, 3, 3, 3, 3, 3, 3, 3, 3, 3, 3, 3, 3, 3, 3, 3, 3,\n",
       "       3, 3, 3, 3, 3, 3, 3, 3, 3, 3, 3, 3, 3, 3, 3, 3, 3, 3, 3, 3, 3, 3,\n",
       "       3, 3, 3, 3, 3, 3, 3, 3, 3, 3, 3, 3, 3, 3, 3, 3, 3, 3, 3, 3, 3, 3,\n",
       "       3, 3, 3, 3, 3, 3, 3], dtype=int64)"
      ]
     },
     "execution_count": 53,
     "metadata": {},
     "output_type": "execute_result"
    }
   ],
   "source": [
    "np.argmax(p, axis=2)[0]"
   ]
  },
  {
   "cell_type": "code",
   "execution_count": 54,
   "metadata": {
    "execution": {
     "iopub.execute_input": "2024-08-19T19:55:26.246107Z",
     "iopub.status.busy": "2024-08-19T19:55:26.245723Z",
     "iopub.status.idle": "2024-08-19T19:55:26.279297Z",
     "shell.execute_reply": "2024-08-19T19:55:26.278200Z",
     "shell.execute_reply.started": "2024-08-19T19:55:26.246041Z"
    }
   },
   "outputs": [
    {
     "name": "stdout",
     "output_type": "stream",
     "text": [
      "               precision    recall  f1-score   support\n",
      "\n",
      "     B-LOKASI       0.85      0.81      0.83       575\n",
      "     I-LOKASI       0.88      0.84      0.86       662\n",
      "B-RUMPUT LAUT       0.95      0.88      0.91       559\n",
      "            O       0.99      1.00      1.00     51599\n",
      "I-RUMPUT LAUT       0.97      0.83      0.89       389\n",
      "\n",
      "     accuracy                           0.99     53784\n",
      "    macro avg       0.93      0.87      0.90     53784\n",
      " weighted avg       0.99      0.99      0.99     53784\n",
      "\n"
     ]
    }
   ],
   "source": [
    "print(classification_report(np.argmax(y_test, 2).ravel(), np.argmax(p, axis=2).ravel(),labels=list(idx2tag.keys()), target_names=list(idx2tag.values())))"
   ]
  },
  {
   "cell_type": "markdown",
   "metadata": {},
   "source": [
    "### by LOKASI n RUMPUT LAUT"
   ]
  },
  {
   "cell_type": "code",
   "execution_count": 55,
   "metadata": {},
   "outputs": [
    {
     "name": "stdout",
     "output_type": "stream",
     "text": [
      "              precision    recall  f1-score   support\n",
      "\n",
      " RUMPUT LAUT       0.90      0.85      0.87      1237\n",
      "           O       0.99      1.00      1.00     51599\n",
      "      LOKASI       0.96      0.86      0.91       948\n",
      "\n",
      "    accuracy                           0.99     53784\n",
      "   macro avg       0.95      0.90      0.93     53784\n",
      "weighted avg       0.99      0.99      0.99     53784\n",
      "\n"
     ]
    }
   ],
   "source": [
    "from sklearn.metrics import classification_report\n",
    "import numpy as np\n",
    "\n",
    "\n",
    "# Fungsi untuk menghapus prefix 'B-' atau 'I-' dari label\n",
    "def remove_prefix(labels, idx2tag):\n",
    "    return [\n",
    "        idx2tag[idx].split(\"-\")[-1] if \"-\" in idx2tag[idx] else idx2tag[idx]\n",
    "        for idx in labels\n",
    "    ]\n",
    "\n",
    "\n",
    "# Mendapatkan label prediksi dan ground truth dalam bentuk ravel (flatten)\n",
    "y_true = np.argmax(y_test, axis=2).ravel()\n",
    "y_pred = np.argmax(p, axis=2).ravel()\n",
    "\n",
    "# Transformasi label untuk menghilangkan prefix 'B-' atau 'I-'\n",
    "y_true_transformed = remove_prefix(y_true, idx2tag)\n",
    "y_pred_transformed = remove_prefix(y_pred, idx2tag)\n",
    "\n",
    "# Hitung classification report setelah transformasi\n",
    "print(\n",
    "    classification_report(\n",
    "        y_true_transformed,\n",
    "        y_pred_transformed,\n",
    "        target_names=list(set(y_true_transformed)),\n",
    "    )\n",
    ")"
   ]
  },
  {
   "cell_type": "markdown",
   "metadata": {},
   "source": [
    "## Confussion Matrix"
   ]
  },
  {
   "cell_type": "code",
   "execution_count": 56,
   "metadata": {},
   "outputs": [],
   "source": [
    "import numpy as np\n",
    "from sklearn.metrics import confusion_matrix\n",
    "import matplotlib.pyplot as plt\n",
    "import seaborn as sns"
   ]
  },
  {
   "cell_type": "code",
   "execution_count": 57,
   "metadata": {},
   "outputs": [
    {
     "data": {
      "image/png": "[encoded data removed]",
      "text/plain": [
       "<Figure size 1000x700 with 2 Axes>"
      ]
     },
     "metadata": {},
     "output_type": "display_data"
    }
   ],
   "source": [
    "# Fungsi untuk menghapus prefix 'B-' atau 'I-' dari label\n",
    "def remove_prefix(labels, idx2tag):\n",
    "    return [\n",
    "        idx2tag[idx].split(\"-\")[-1] if \"-\" in idx2tag[idx] else idx2tag[idx]\n",
    "        for idx in labels\n",
    "    ]\n",
    "\n",
    "\n",
    "# Mendapatkan label prediksi dan ground truth dalam bentuk ravel (flatten)\n",
    "y_true = np.argmax(y_test, axis=2).ravel()\n",
    "y_pred = np.argmax(p, axis=2).ravel()\n",
    "\n",
    "# Transformasi label untuk menghilangkan prefix 'B-' atau 'I-'\n",
    "y_true_transformed = remove_prefix(y_true, idx2tag)\n",
    "y_pred_transformed = remove_prefix(y_pred, idx2tag)\n",
    "\n",
    "# Buat confusion matrix\n",
    "labels = list(set(y_true_transformed))  # Dapatkan label unik\n",
    "cm = confusion_matrix(y_true_transformed, y_pred_transformed, labels=labels)\n",
    "\n",
    "# Visualisasi confusion matrix menggunakan seaborn\n",
    "plt.figure(figsize=(10, 7))\n",
    "sns.heatmap(\n",
    "    cm, annot=True, fmt=\"d\", cmap=\"Blues\", xticklabels=labels, yticklabels=labels\n",
    ")\n",
    "plt.xlabel(\"Predicted Labels\")\n",
    "plt.ylabel(\"True Labels\")\n",
    "plt.title(\"Confusion Matrix for NER Labels\")\n",
    "plt.show()"
   ]
  },
  {
   "cell_type": "code",
   "execution_count": 58,
   "metadata": {},
   "outputs": [
    {
     "name": "stdout",
     "output_type": "stream",
     "text": [
      "[[  816   132     0]\n",
      " [   33 51444   122]\n",
      " [    1   181  1055]]\n"
     ]
    }
   ],
   "source": [
    "print(cm)"
   ]
  },
  {
   "cell_type": "markdown",
   "metadata": {},
   "source": [
    "## Seqeval"
   ]
  },
  {
   "cell_type": "code",
   "execution_count": 59,
   "metadata": {},
   "outputs": [
    {
     "name": "stdout",
     "output_type": "stream",
     "text": [
      "Accuracy: 0.9905919976201101\n",
      "Classification Report:\n",
      "              precision    recall  f1-score   support\n",
      "\n",
      "      LOKASI       0.72      0.70      0.71       576\n",
      " RUMPUT LAUT       0.88      0.82      0.85       559\n",
      "\n",
      "   micro avg       0.80      0.76      0.78      1135\n",
      "   macro avg       0.80      0.76      0.78      1135\n",
      "weighted avg       0.80      0.76      0.78      1135\n",
      "\n"
     ]
    }
   ],
   "source": [
    "from seqeval.metrics import classification_report, accuracy_score\n",
    "\n",
    "\n",
    "# Fungsi untuk menghapus prefix 'B-' atau 'I-' dari label\n",
    "def remove_prefix(labels, idx2tag):\n",
    "    return [\n",
    "        idx2tag[idx].split(\"-\")[-1] if \"-\" in idx2tag[idx] else idx2tag[idx]\n",
    "        for idx in labels\n",
    "    ]\n",
    "\n",
    "\n",
    "# Mendapatkan label prediksi dan ground truth dalam bentuk ravel (flatten)\n",
    "y_true = np.argmax(y_test, axis=2)\n",
    "y_pred = np.argmax(p, axis=2)\n",
    "\n",
    "# Mengubah format dari indeks ke label string\n",
    "y_true_labels = [[idx2tag[idx] for idx in seq] for seq in y_true]\n",
    "y_pred_labels = [[idx2tag[idx] for idx in seq] for seq in y_pred]\n",
    "\n",
    "# Evaluasi menggunakan seqeval\n",
    "print(\"Accuracy:\", accuracy_score(y_true_labels, y_pred_labels))\n",
    "print(\"Classification Report:\")\n",
    "print(classification_report(y_true_labels, y_pred_labels))"
   ]
  },
  {
   "cell_type": "markdown",
   "metadata": {},
   "source": [
    "# Thank You 🙏"
   ]
  },
  {
   "cell_type": "code",
   "execution_count": null,
   "metadata": {},
   "outputs": [],
   "source": []
  }
 ],
 "metadata": {
  "kaggle": {
   "accelerator": "none",
   "dataSources": [
    {
     "datasetId": 5565927,
     "sourceId": 9205766,
     "sourceType": "datasetVersion"
    }
   ],
   "dockerImageVersionId": 29271,
   "isGpuEnabled": false,
   "isInternetEnabled": true,
   "language": "python",
   "sourceType": "notebook"
  },
  "kernelspec": {
   "display_name": "Python 3",
   "language": "python",
   "name": "python3"
  },
  "language_info": {
   "codemirror_mode": {
    "name": "ipython",
    "version": 3
   },
   "file_extension": ".py",
   "mimetype": "text/x-python",
   "name": "python",
   "nbconvert_exporter": "python",
   "pygments_lexer": "ipython3",
   "version": "3.7.16"
  }
 },
 "nbformat": 4,
 "nbformat_minor": 4
}
